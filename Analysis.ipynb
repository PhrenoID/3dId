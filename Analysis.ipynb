{
 "cells": [
  {
   "cell_type": "code",
   "execution_count": 4,
   "metadata": {},
   "outputs": [
    {
     "data": {
      "text/plain": [
       "      COLLECTION        GROUP                 POP     \n",
       " DONATED   :181            :716                 :635  \n",
       " TERRY     :174   white    :173   Oloriz        :130  \n",
       " OLORIZ    :130   black    : 53   black         :108  \n",
       " Morton    :124   Turkey   : 33   Hispanic_Chile: 74  \n",
       " UT_DONATED:118   Macedonia: 22   white         : 74  \n",
       "           : 99   (Other)  : 74   Cuba_African  : 27  \n",
       " (Other)   :246   NA's     :  1   (Other)       : 24  \n",
       "                            RACE           SEX           x.1         \n",
       "                              :1001   male   :442   Min.   :-252.17  \n",
       " Hispanic_Guatamala           :  21   female :295   1st Qu.:  29.28  \n",
       " White                        :  15          :217   Median : 117.85  \n",
       " hispanic_panama              :   8   M      : 48   Mean   :  83.27  \n",
       " hispanic_peru                :   8   ?      : 43   3rd Qu.: 160.11  \n",
       " hispanic_panama_afroantillean:   6   F      :  9   Max.   : 332.60  \n",
       " (Other)                      :  13   (Other): 18   NA's   :15       \n",
       "      y.1         \n",
       " Min.   :-262.12  \n",
       " 1st Qu.:-153.82  \n",
       " Median :  28.72  \n",
       " Mean   :  38.31  \n",
       " 3rd Qu.: 239.40  \n",
       " Max.   : 368.16  \n",
       " NA's   :15       "
      ]
     },
     "metadata": {},
     "output_type": "display_data"
    }
   ],
   "source": [
    "x=read.table(\"3d_id.csv\",sep=';',quote=\"\",comment.char=\"\");\n",
    "l=read.table(\"labs\");\n",
    "labs=as.character(l[1:5,1]);\n",
    "labs=c(\"id\",labs,paste(rep(c(\"x\",\"y\",\"z\"),35),rep(1:35,rep(3,35)),sep=\".\"));\n",
    "names(x)=labs;\n",
    "#make NAs\n",
    "for (i in 7:111) x[x[,i]==-999,i] = NA;\n",
    "\n",
    "\n",
    "#now all observationas are ready\n",
    "summary(x[,2:8])"
   ]
  },
  {
   "cell_type": "markdown",
   "metadata": {},
   "source": [
    "These are basic stats. The first component of the first variable is all over the place, presumably the rotation invariant of the coordinates is needed for comparison."
   ]
  },
  {
   "cell_type": "code",
   "execution_count": 5,
   "metadata": {},
   "outputs": [
    {
     "data": {
      "text/plain": [
       "\n",
       "FALSE  TRUE \n",
       "  111   961 "
      ]
     },
     "metadata": {},
     "output_type": "display_data"
    }
   ],
   "source": [
    "#only 111 observations are complete?\n",
    "table(is.na(apply(x[,7:111],1,sum)))"
   ]
  },
  {
   "cell_type": "markdown",
   "metadata": {},
   "source": [
    "We need to align (register) the measurements. This can be separated into three steps:\n",
    "    - selecting origin\n",
    "    - aligning two axis\n",
    "    - possibly rescaling\n",
    "\n",
    "Without loss of generality lets pick  the back of the cranium (point Lambda or number 16) as the origin. Other options may be better, e.g., centroid, but it is easier to explain."
   ]
  },
  {
   "cell_type": "code",
   "execution_count": 11,
   "metadata": {
    "collapsed": true
   },
   "outputs": [],
   "source": [
    "#separate covariates\n",
    "y=x[,1:7];\n",
    "\n",
    "#now these are mostly non-missing measures\n",
    "vs1 = c(0:4,8:14,16:19,26:33);\n",
    "vs0=15;\n",
    "origin = c(3*vs0,3*vs0+1,3*vs0+2)+7;\n",
    "for (i in vs1){\n",
    "  to = c(3*i,3*i+1,3*i+2)+7;\n",
    "  y=cbind(y,x[,to]-x[,origin]);\n",
    "}\n",
    "#Make sure all are non-nissing\n",
    "sel = is.na(apply(y[,-c(1:7)],1,sum));"
   ]
  },
  {
   "cell_type": "code",
   "execution_count": 12,
   "metadata": {},
   "outputs": [
    {
     "data": {
      "text/plain": [
       "      x.16              y.16              z.16       \n",
       " Min.   :-179.47   Min.   :-325.35   Min.   : 13.38  \n",
       " 1st Qu.:  10.25   1st Qu.:-196.10   1st Qu.:164.92  \n",
       " Median :  89.15   Median :-176.03   Median :184.32  \n",
       " Mean   :  63.75   Mean   : -42.71   Mean   :183.85  \n",
       " 3rd Qu.: 155.23   3rd Qu.: 176.14   3rd Qu.:199.84  \n",
       " Max.   : 229.55   Max.   : 439.71   Max.   :280.53  \n",
       " NA's   :13        NA's   :13        NA's   :13      "
      ]
     },
     "metadata": {},
     "output_type": "display_data"
    }
   ],
   "source": [
    "# is there any pattern?\n",
    "summary(x[sel,origin])"
   ]
  },
  {
   "cell_type": "markdown",
   "metadata": {},
   "source": [
    "Origin may be less varying if we pick one measurer/one apparatus, so it might help identifying who did the measurement"
   ]
  },
  {
   "cell_type": "code",
   "execution_count": null,
   "metadata": {
    "collapsed": true
   },
   "outputs": [],
   "source": [
    "Lets allign first axis based on the point lammda and widway between "
   ]
  }
 ],
 "metadata": {
  "kernelspec": {
   "display_name": "R",
   "language": "R",
   "name": "ir"
  },
  "language_info": {
   "codemirror_mode": "r",
   "file_extension": ".r",
   "mimetype": "text/x-r-source",
   "name": "R",
   "pygments_lexer": "r",
   "version": "3.4.1"
  }
 },
 "nbformat": 4,
 "nbformat_minor": 2
}
