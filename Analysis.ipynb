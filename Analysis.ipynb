{
 "cells": [
  {
   "cell_type": "code",
   "execution_count": 228,
   "metadata": {},
   "outputs": [
    {
     "data": {
      "text/plain": [
       "      COLLECTION        GROUP                 POP     \n",
       " DONATED   :181            :716                 :635  \n",
       " TERRY     :174   white    :173   Oloriz        :130  \n",
       " OLORIZ    :130   black    : 53   black         :108  \n",
       " Morton    :124   Turkey   : 33   Hispanic_Chile: 74  \n",
       " UT_DONATED:118   Macedonia: 22   white         : 74  \n",
       "           : 99   (Other)  : 74   Cuba_African  : 27  \n",
       " (Other)   :246   NA's     :  1   (Other)       : 24  \n",
       "                            RACE           SEX           x.1         \n",
       "                              :1001   male   :442   Min.   :-252.17  \n",
       " Hispanic_Guatamala           :  21   female :295   1st Qu.:  29.28  \n",
       " White                        :  15          :217   Median : 117.85  \n",
       " hispanic_panama              :   8   M      : 48   Mean   :  83.27  \n",
       " hispanic_peru                :   8   ?      : 43   3rd Qu.: 160.11  \n",
       " hispanic_panama_afroantillean:   6   F      :  9   Max.   : 332.60  \n",
       " (Other)                      :  13   (Other): 18   NA's   :15       \n",
       "      y.1         \n",
       " Min.   :-262.12  \n",
       " 1st Qu.:-153.82  \n",
       " Median :  28.72  \n",
       " Mean   :  38.31  \n",
       " 3rd Qu.: 239.40  \n",
       " Max.   : 368.16  \n",
       " NA's   :15       "
      ]
     },
     "metadata": {},
     "output_type": "display_data"
    }
   ],
   "source": [
    "x=read.table(\"3d_id.csv1\",sep=';',quote=\"\",comment.char=\"\");\n",
    "l=read.table(\"labs\");\n",
    "\n",
    "labs=as.character(l[1:5,1]);\n",
    "labs=c(\"id\",labs,paste(rep(c(\"x\",\"y\",\"z\"),35),rep(1:35,rep(3,35)),sep=\".\"));\n",
    "names(x)=labs;\n",
    "#make NAs\n",
    "for (i in 7:111) x[x[,i]==-999,i] = NA;\n",
    "\n",
    "\n",
    "#now all observationas are ready\n",
    "summary(x[,2:8])"
   ]
  },
  {
   "cell_type": "markdown",
   "metadata": {},
   "source": [
    "These are basic stats. The first component of the first variable is all over the place, presumably the rotation invariant of the coordinates is needed for comparison."
   ]
  },
  {
   "cell_type": "code",
   "execution_count": 229,
   "metadata": {},
   "outputs": [
    {
     "data": {
      "text/plain": [
       "\n",
       "FALSE  TRUE \n",
       "  111   961 "
      ]
     },
     "metadata": {},
     "output_type": "display_data"
    }
   ],
   "source": [
    "#only 111 observations are complete?\n",
    "table(is.na(apply(x[,7:111],1,sum)))"
   ]
  },
  {
   "cell_type": "markdown",
   "metadata": {},
   "source": [
    "We need to align (register) the measurements. This can be separated into three steps:\n",
    "    - selecting origin\n",
    "    - aligning two axis\n",
    "    - possibly rescaling\n",
    "\n",
    "Without loss of generality lets pick  the back of the cranium (point Lambda or number 16) as the origin. Other options may be better, e.g., centroid, but it is easier to explain."
   ]
  },
  {
   "cell_type": "code",
   "execution_count": 230,
   "metadata": {},
   "outputs": [
    {
     "data": {
      "text/plain": [
       "sel\n",
       "FALSE  TRUE \n",
       "  164   908 "
      ]
     },
     "metadata": {},
     "output_type": "display_data"
    }
   ],
   "source": [
    "#separate covariates\n",
    "y=x[,1:7];\n",
    "\n",
    "#now these are mostly non-missing measures\n",
    "vs1 = c(0:4,8:15,16:19,26:33);\n",
    "lambda = c(3*15,3*15+1,3*15+2)+7;\n",
    "for (i in vs1){\n",
    "  to = c(3*i,3*i+1,3*i+2)+7;\n",
    "  y=cbind(y,x[,to]-x[,lambda]);\n",
    "}\n",
    "#Make sure all are non-nissing\n",
    "sel = !is.na(apply(y[,-c(1:7)],1,sum));\n",
    "table(sel)"
   ]
  },
  {
   "cell_type": "code",
   "execution_count": 231,
   "metadata": {},
   "outputs": [
    {
     "data": {
      "text/plain": [
       "      x.16              y.16              z.16       \n",
       " Min.   :-172.20   Min.   :-335.00   Min.   : 10.58  \n",
       " 1st Qu.:  21.28   1st Qu.:-198.48   1st Qu.:151.14  \n",
       " Median :  65.10   Median :  34.86   Median :188.49  \n",
       " Mean   :  64.84   Mean   :  12.50   Mean   :175.78  \n",
       " 3rd Qu.: 132.65   3rd Qu.: 202.01   3rd Qu.:214.51  \n",
       " Max.   : 267.95   Max.   : 439.57   Max.   :298.77  "
      ]
     },
     "metadata": {},
     "output_type": "display_data"
    }
   ],
   "source": [
    "# is there any pattern?\n",
    "summary(x[sel,lambda])"
   ]
  },
  {
   "cell_type": "markdown",
   "metadata": {},
   "source": [
    "Origin may be less varying if we pick one measurer/one apparatus, so it might help identifying who did the measurement"
   ]
  },
  {
   "cell_type": "markdown",
   "metadata": {},
   "source": [
    "Lets align the first axis based on the point lammda and nasion (20)"
   ]
  },
  {
   "cell_type": "code",
   "execution_count": 232,
   "metadata": {
    "collapsed": true
   },
   "outputs": [],
   "source": [
    "#nasion\n",
    "nas = c(3*18,3*18+1,3*18+2)+7;\n",
    "#frontomalare temporale\n",
    "fmtr = c(3*13,3*13+1,3*13+2)+7;\n",
    "fmtl = c(3*12,3*12+1,3*12+2)+7;\n",
    "#top of cranium: bregma\n",
    "brg = c(3*3,3*3+1,3*3+2)+7;"
   ]
  },
  {
   "cell_type": "code",
   "execution_count": 233,
   "metadata": {},
   "outputs": [
    {
     "data": {
      "text/plain": [
       "      x.19                y.19                z.19        \n",
       " Min.   :-147.2750   Min.   :-171.2530   Min.   :  3.955  \n",
       " 1st Qu.:  -0.0155   1st Qu.: -16.1137   1st Qu.: 99.538  \n",
       " Median :  15.2730   Median :  -1.7840   Median :158.024  \n",
       " Mean   :  26.4855   Mean   :   0.1674   Mean   :132.064  \n",
       " 3rd Qu.:  40.6343   3rd Qu.:   9.5370   3rd Qu.:171.782  \n",
       " Max.   : 183.1630   Max.   : 156.8900   Max.   :202.380  "
      ]
     },
     "metadata": {},
     "output_type": "display_data"
    },
    {
     "data": {
      "text/plain": [
       "      x.14              y.14               z.14         \n",
       " Min.   :-113.32   Min.   :-115.842   Min.   :-19.6610  \n",
       " 1st Qu.: -12.31   1st Qu.:-100.887   1st Qu.: -4.6490  \n",
       " Median :  10.71   Median : -94.003   Median : -1.6520  \n",
       " Mean   :  11.98   Mean   : -53.521   Mean   : -1.6654  \n",
       " 3rd Qu.:  40.45   3rd Qu.:  -0.912   3rd Qu.:  0.6162  \n",
       " Max.   : 110.59   Max.   : 103.769   Max.   : 19.1960  "
      ]
     },
     "metadata": {},
     "output_type": "display_data"
    }
   ],
   "source": [
    "summary(x[sel,nas]-x[sel,lambda])\n",
    "summary(x[sel,fmtr]-x[sel,fmtl])"
   ]
  },
  {
   "cell_type": "code",
   "execution_count": 234,
   "metadata": {},
   "outputs": [
    {
     "data": {
      "image/png": "[encoded data removed]",
      "text/plain": [
       "Plot with title \"Histogram of apply(a1n[, ] * a2n[, ], 1, sum)\""
      ]
     },
     "metadata": {},
     "output_type": "display_data"
    }
   ],
   "source": [
    "x0 = x[sel,];\n",
    "#Rotate all vectors nas-lambda to align with (1,0,0)\n",
    "#Rotate all vectors fmtr-fmtl to align with (0,1,0)\n",
    "a1=x0[,nas]-x0[,lambda]\n",
    "a2=x0[,fmtr]-x0[,fmtl]\n",
    "#normalize\n",
    "a1n = a1/sqrt(apply(a1*a1,1,sum)) \n",
    "a2n = a2/sqrt(apply(a2*a2,1,sum)) \n",
    "#lets see if these are orthogonal\n",
    "hist(apply(a1n[,]*a2n[,],1,sum))"
   ]
  },
  {
   "cell_type": "markdown",
   "metadata": {},
   "source": [
    "The axes are not orthogonal, how bad the measuremeent must be?\n",
    "  - Pick another candidate pair?\n",
    "  - Garbage data?\n",
    "  - Make rotation around lambda-nasion axis?\n"
   ]
  },
  {
   "cell_type": "code",
   "execution_count": 235,
   "metadata": {},
   "outputs": [
    {
     "data": {
      "text/html": [
       "30"
      ],
      "text/latex": [
       "30"
      ],
      "text/markdown": [
       "30"
      ],
      "text/plain": [
       "[1] 30"
      ]
     },
     "metadata": {},
     "output_type": "display_data"
    },
    {
     "data": {
      "text/html": [
       "<ol class=list-inline>\n",
       "\t<li>126</li>\n",
       "\t<li>411</li>\n",
       "</ol>\n"
      ],
      "text/latex": [
       "\\begin{enumerate*}\n",
       "\\item 126\n",
       "\\item 411\n",
       "\\end{enumerate*}\n"
      ],
      "text/markdown": [
       "1. 126\n",
       "2. 411\n",
       "\n",
       "\n"
      ],
      "text/plain": [
       "[1] 126 411"
      ]
     },
     "metadata": {},
     "output_type": "display_data"
    }
   ],
   "source": [
    "# a set that is quite orthogonal\n",
    "ss = abs(apply(a1n[,]*a2n[,],1,sum))<.001\n",
    "ss=(1:dim(x0)[1])[ss]\n",
    "length(ss)\n",
    "\n",
    "#bad, not orthogonal\n",
    "sbad = apply(a1n[,]*a2n[,],1,sum)< -.1\n",
    "sbad=(1:dim(x0)[1])[sbad]\n",
    "sbad"
   ]
  },
  {
   "cell_type": "code",
   "execution_count": 236,
   "metadata": {},
   "outputs": [
    {
     "data": {
      "text/html": [
       "<dl>\n",
       "\t<dt>$x</dt>\n",
       "\t\t<dd><ol class=list-inline>\n",
       "\t<li>0.836483333333333</li>\n",
       "\t<li>2.49826666666667</li>\n",
       "\t<li>3.78066333333333</li>\n",
       "\t<li>-0.178336666666666</li>\n",
       "\t<li>3.53601666666667</li>\n",
       "</ol>\n",
       "</dd>\n",
       "\t<dt>$y</dt>\n",
       "\t\t<dd><ol class=list-inline>\n",
       "\t<li>21.8072333333333</li>\n",
       "\t<li>21.0501666666667</li>\n",
       "\t<li>16.6619333333333</li>\n",
       "\t<li>16.0577333333333</li>\n",
       "\t<li>19.7872166666667</li>\n",
       "</ol>\n",
       "</dd>\n",
       "</dl>\n"
      ],
      "text/latex": [
       "\\begin{description}\n",
       "\\item[\\$x] \\begin{enumerate*}\n",
       "\\item 0.836483333333333\n",
       "\\item 2.49826666666667\n",
       "\\item 3.78066333333333\n",
       "\\item -0.178336666666666\n",
       "\\item 3.53601666666667\n",
       "\\end{enumerate*}\n",
       "\n",
       "\\item[\\$y] \\begin{enumerate*}\n",
       "\\item 21.8072333333333\n",
       "\\item 21.0501666666667\n",
       "\\item 16.6619333333333\n",
       "\\item 16.0577333333333\n",
       "\\item 19.7872166666667\n",
       "\\end{enumerate*}\n",
       "\n",
       "\\end{description}\n"
      ],
      "text/markdown": [
       "$x\n",
       ":   1. 0.836483333333333\n",
       "2. 2.49826666666667\n",
       "3. 3.78066333333333\n",
       "4. -0.178336666666666\n",
       "5. 3.53601666666667\n",
       "\n",
       "\n",
       "\n",
       "$y\n",
       ":   1. 21.8072333333333\n",
       "2. 21.0501666666667\n",
       "3. 16.6619333333333\n",
       "4. 16.0577333333333\n",
       "5. 19.7872166666667\n",
       "\n",
       "\n",
       "\n",
       "\n",
       "\n"
      ],
      "text/plain": [
       "$x\n",
       "[1]  0.8364833  2.4982667  3.7806633 -0.1783367  3.5360167\n",
       "\n",
       "$y\n",
       "[1] 21.80723 21.05017 16.66193 16.05773 19.78722\n"
      ]
     },
     "metadata": {},
     "output_type": "display_data"
    },
    {
     "data": {
      "text/html": [
       "<table>\n",
       "<thead><tr><th scope=col>x.4</th><th scope=col>y.4</th><th scope=col>z.4</th></tr></thead>\n",
       "<tbody>\n",
       "\t<tr><td>110.715</td><td>162.669</td><td>381.032</td></tr>\n",
       "\t<tr><td>225.845</td><td>201.118</td><td>340.258</td></tr>\n",
       "\t<tr><td>202.314</td><td>95.937 </td><td>322.614</td></tr>\n",
       "\t<tr><td>68.504 </td><td>172.905</td><td>259.218</td></tr>\n",
       "\t<tr><td>230.4  </td><td>144.319</td><td>352.865</td></tr>\n",
       "</tbody>\n",
       "</table>\n"
      ],
      "text/latex": [
       "\\begin{tabular}{lll}\n",
       " x.4 & y.4 & z.4\\\\\n",
       "\\hline\n",
       "\t 110.715 & 162.669 & 381.032\\\\\n",
       "\t 225.845 & 201.118 & 340.258\\\\\n",
       "\t 202.314 & 95.937  & 322.614\\\\\n",
       "\t 68.504  & 172.905 & 259.218\\\\\n",
       "\t 230.4   & 144.319 & 352.865\\\\\n",
       "\\end{tabular}\n"
      ],
      "text/markdown": [
       "\n",
       "x.4 | y.4 | z.4 | \n",
       "|---|---|---|---|---|\n",
       "| 110.715 | 162.669 | 381.032 | \n",
       "| 225.845 | 201.118 | 340.258 | \n",
       "| 202.314 | 95.937  | 322.614 | \n",
       "| 68.504  | 172.905 | 259.218 | \n",
       "| 230.4   | 144.319 | 352.865 | \n",
       "\n",
       "\n"
      ],
      "text/plain": [
       "     x.4     y.4     z.4    \n",
       "[1,] 110.715 162.669 381.032\n",
       "[2,] 225.845 201.118 340.258\n",
       "[3,] 202.314 95.937  322.614\n",
       "[4,] 68.504  172.905 259.218\n",
       "[5,] 230.4   144.319 352.865"
      ]
     },
     "metadata": {},
     "output_type": "display_data"
    },
    {
     "data": {
      "text/html": [
       "<table>\n",
       "<thead><tr><th></th><th scope=col>id</th><th scope=col>COLLECTION</th><th scope=col>GROUP</th><th scope=col>POP</th><th scope=col>RACE</th><th scope=col>SEX</th><th scope=col>x.1</th><th scope=col>y.1</th><th scope=col>z.1</th><th scope=col>x.2</th><th scope=col>...</th><th scope=col>z.32</th><th scope=col>x.33</th><th scope=col>y.33</th><th scope=col>z.33</th><th scope=col>x.34</th><th scope=col>y.34</th><th scope=col>z.34</th><th scope=col>x.35</th><th scope=col>y.35</th><th scope=col>z.35</th></tr></thead>\n",
       "<tbody>\n",
       "\t<tr><th scope=row>150</th><td>NC95-054       </td><td>FORENSIC       </td><td>               </td><td>               </td><td>Hispanic_mexico</td><td>male           </td><td>144.084        </td><td>50.676         </td><td>246.182        </td><td>248.162        </td><td>...            </td><td>349.052        </td><td>183.256        </td><td>56.491         </td><td>367.791        </td><td>236.102        </td><td>53.313         </td><td>359.556        </td><td>NA             </td><td>NA             </td><td>NA             </td></tr>\n",
       "</tbody>\n",
       "</table>\n"
      ],
      "text/latex": [
       "\\begin{tabular}{r|lllllllllllllllllllllllllllllllllllllllllllllllllllllllllllllllllllllllllllllllllllllllllllllllllllllllllllllll}\n",
       "  & id & COLLECTION & GROUP & POP & RACE & SEX & x.1 & y.1 & z.1 & x.2 & ... & z.32 & x.33 & y.33 & z.33 & x.34 & y.34 & z.34 & x.35 & y.35 & z.35\\\\\n",
       "\\hline\n",
       "\t150 & NC95-054          & FORENSIC          &                   &                   & Hispanic\\_mexico & male              & 144.084           & 50.676            & 246.182           & 248.162           & ...               & 349.052           & 183.256           & 56.491            & 367.791           & 236.102           & 53.313            & 359.556           & NA                & NA                & NA               \\\\\n",
       "\\end{tabular}\n"
      ],
      "text/markdown": [
       "\n",
       "| <!--/--> | id | COLLECTION | GROUP | POP | RACE | SEX | x.1 | y.1 | z.1 | x.2 | ... | z.32 | x.33 | y.33 | z.33 | x.34 | y.34 | z.34 | x.35 | y.35 | z.35 | \n",
       "|---|\n",
       "| 150 | NC95-054        | FORENSIC        |                 |                 | Hispanic_mexico | male            | 144.084         | 50.676          | 246.182         | 248.162         | ...             | 349.052         | 183.256         | 56.491          | 367.791         | 236.102         | 53.313          | 359.556         | NA              | NA              | NA              | \n",
       "\n",
       "\n"
      ],
      "text/plain": [
       "    id       COLLECTION GROUP POP RACE            SEX  x.1     y.1    z.1    \n",
       "150 NC95-054 FORENSIC             Hispanic_mexico male 144.084 50.676 246.182\n",
       "    x.2     ... z.32    x.33    y.33   z.33    x.34    y.34   z.34    x.35 y.35\n",
       "150 248.162 ... 349.052 183.256 56.491 367.791 236.102 53.313 359.556 NA   NA  \n",
       "    z.35\n",
       "150 NA  "
      ]
     },
     "metadata": {},
     "output_type": "display_data"
    },
    {
     "data": {
      "image/png": "[encoded data removed]",
      "text/plain": [
       "plot without title"
      ]
     },
     "metadata": {},
     "output_type": "display_data"
    }
   ],
   "source": [
    "library(\"scatterplot3d\")\n",
    "#one of the worst\n",
    "vals=c();\n",
    "for (m in c(3,12,13,15,18)){\n",
    "  to = c(3*m,3*m+1,3*m+2)+7;\n",
    "  vals = rbind(vals,unclass(x0[126,to]));\n",
    "}\n",
    "p3d=scatterplot3d(vals[,1], vals[,2], vals[,3],type=\"h\",pch=c(\"+\",\"l\",\"r\",\"b\",\"n\"),\n",
    "                  highlight.3d = F,  angle = 120,\n",
    "                  col.axis = \"blue\")\n",
    "p3d.coords <- p3d$xyz.convert(vals[,1], vals[,2], vals[,3])\n",
    "p3d.coords\n",
    "lines(p3d.coords$x[4:5],p3d.coords$y[4:5])\n",
    "lines(p3d.coords$x[2:3],p3d.coords$y[2:3])\n",
    "\n",
    "vals\n",
    "x0[128,]"
   ]
  },
  {
   "cell_type": "markdown",
   "metadata": {},
   "source": [
    "This is appears to be problematic, top of the cranium is way the right side,  the two axes are really non-perpendicular. This appears to be either a deformed cranium or a problematic measurement"
   ]
  },
  {
   "cell_type": "code",
   "execution_count": 242,
   "metadata": {
    "collapsed": true
   },
   "outputs": [],
   "source": [
    "xtr = x0;\n",
    "\n",
    "v1 = as.double(matrix(c(1,0,0)));\n",
    "v2 = as.double(matrix(c(0,1,0)));\n",
    "\n",
    "for (j in 1:dim(x0)[1]){\n",
    "#for (j in ss){\n",
    "  v = as.double(matrix(a1n[j,],nrow=3));\n",
    "  a=v1+v\n",
    "  r1 = 2/(t(a)%*%a)[1,1]*(a%*%t(a)) - matrix(c(1,0,0,0,1,0,0,0,1),ncol=3);\n",
    "  #print(r1%*%t(r1))  \n",
    "  #go over all measurements\n",
    "  for (i in vs1){\n",
    "    to = c(3*i,3*i+1,3*i+2)+7;\n",
    "    var=(x0[j,to]-x0[j,lambda]); #translate    \n",
    "    #var=(x0[j,to]); #translate    \n",
    "    varR = as.double(matrix(var,nrow=3))%*%r1; #rotate\n",
    "    xtr[j,to] = varR\n",
    "  }\n",
    "}\n",
    "xtr2 = xtr;\n",
    "a22=xtr[,fmtr]-xtr[,fmtl]\n",
    "a2n = a22/sqrt(apply(a22*a22,1,sum)) \n",
    "for (j in 1:dim(x0)[1]){\n",
    "#for (j in ss){\n",
    "  v = as.double(matrix(a2n[j,],nrow=3));\n",
    "  #perhaps do rotation around v1 axis only?  \n",
    "  #v = v*c(0,1,1)\n",
    "  v = v / sqrt(sum(v*v))  \n",
    "  a=v2+v\n",
    "  r2 = 2/(t(a)%*%a)[1,1]*(a%*%t(a)) - matrix(c(1,0,0,0,1,0,0,0,1),ncol=3);\n",
    "  for (i in vs1){\n",
    "    to = c(3*i,3*i+1,3*i+2)+7;  \n",
    "    varR = as.double(matrix(xtr[j,to],nrow=3))%*%r2; #rotate\n",
    "    xtr2[j,to] = varR\n",
    "  }\n",
    "}\n",
    "    "
   ]
  },
  {
   "cell_type": "code",
   "execution_count": 243,
   "metadata": {},
   "outputs": [
    {
     "data": {
      "text/html": [
       "<table>\n",
       "<thead><tr><th scope=col>x.4</th><th scope=col>y.4</th><th scope=col>z.4</th></tr></thead>\n",
       "<tbody>\n",
       "\t<tr><td>-87.69135</td><td>1.57425  </td><td>71.15481 </td></tr>\n",
       "\t<tr><td>-159.6181</td><td>-54.50704</td><td>-9.48549 </td></tr>\n",
       "\t<tr><td>-159.6181</td><td>54.44476 </td><td>-9.48549 </td></tr>\n",
       "\t<tr><td>0</td><td>0</td><td>0</td></tr>\n",
       "\t<tr><td>-181.2724 </td><td>-0.1765783</td><td>-0.3153408</td></tr>\n",
       "</tbody>\n",
       "</table>\n"
      ],
      "text/latex": [
       "\\begin{tabular}{lll}\n",
       " x.4 & y.4 & z.4\\\\\n",
       "\\hline\n",
       "\t -87.69135 & 1.57425   & 71.15481 \\\\\n",
       "\t -159.6181 & -54.50704 & -9.48549 \\\\\n",
       "\t -159.6181 & 54.44476  & -9.48549 \\\\\n",
       "\t 0 & 0 & 0\\\\\n",
       "\t -181.2724  & -0.1765783 & -0.3153408\\\\\n",
       "\\end{tabular}\n"
      ],
      "text/markdown": [
       "\n",
       "x.4 | y.4 | z.4 | \n",
       "|---|---|---|---|---|\n",
       "| -87.69135 | 1.57425   | 71.15481  | \n",
       "| -159.6181 | -54.50704 | -9.48549  | \n",
       "| -159.6181 | 54.44476  | -9.48549  | \n",
       "| 0 | 0 | 0 | \n",
       "| -181.2724  | -0.1765783 | -0.3153408 | \n",
       "\n",
       "\n"
      ],
      "text/plain": [
       "     x.4       y.4        z.4       \n",
       "[1,] -87.69135 1.57425    71.15481  \n",
       "[2,] -159.6181 -54.50704  -9.48549  \n",
       "[3,] -159.6181 54.44476   -9.48549  \n",
       "[4,] 0         0          0         \n",
       "[5,] -181.2724 -0.1765783 -0.3153408"
      ]
     },
     "metadata": {},
     "output_type": "display_data"
    },
    {
     "data": {
      "text/html": [
       "<table>\n",
       "<thead><tr><th></th><th scope=col>x.4</th><th scope=col>y.4</th><th scope=col>z.4</th></tr></thead>\n",
       "<tbody>\n",
       "\t<tr><th scope=row>vv</th><td>-93.2587 </td><td>-1.197821</td><td>73.46956 </td></tr>\n",
       "\t<tr><th scope=row>vv</th><td>-161.2566</td><td>-53.09667</td><td>-4.377789</td></tr>\n",
       "\t<tr><th scope=row>vv</th><td>-161.2566</td><td>50.32532 </td><td>-4.377789</td></tr>\n",
       "\t<tr><th scope=row>vv</th><td>0</td><td>0</td><td>0</td></tr>\n",
       "\t<tr><th scope=row>vv</th><td>-180.2689  </td><td>-0.08069553</td><td>0.00165627 </td></tr>\n",
       "</tbody>\n",
       "</table>\n"
      ],
      "text/latex": [
       "\\begin{tabular}{r|lll}\n",
       "  & x.4 & y.4 & z.4\\\\\n",
       "\\hline\n",
       "\tvv & -93.2587  & -1.197821 & 73.46956 \\\\\n",
       "\tvv & -161.2566 & -53.09667 & -4.377789\\\\\n",
       "\tvv & -161.2566 & 50.32532  & -4.377789\\\\\n",
       "\tvv & 0 & 0 & 0\\\\\n",
       "\tvv & -180.2689   & -0.08069553 & 0.00165627 \\\\\n",
       "\\end{tabular}\n"
      ],
      "text/markdown": [
       "\n",
       "| <!--/--> | x.4 | y.4 | z.4 | \n",
       "|---|---|---|---|---|\n",
       "| vv | -93.2587  | -1.197821 | 73.46956  | \n",
       "| vv | -161.2566 | -53.09667 | -4.377789 | \n",
       "| vv | -161.2566 | 50.32532  | -4.377789 | \n",
       "| vv | 0 | 0 | 0 | \n",
       "| vv | -180.2689   | -0.08069553 | 0.00165627  | \n",
       "\n",
       "\n"
      ],
      "text/plain": [
       "   x.4       y.4         z.4       \n",
       "vv -93.2587  -1.197821   73.46956  \n",
       "vv -161.2566 -53.09667   -4.377789 \n",
       "vv -161.2566 50.32532    -4.377789 \n",
       "vv 0         0           0         \n",
       "vv -180.2689 -0.08069553 0.00165627"
      ]
     },
     "metadata": {},
     "output_type": "display_data"
    },
    {
     "data": {
      "image/png": "[encoded data removed]",
      "text/plain": [
       "plot without title"
      ]
     },
     "metadata": {},
     "output_type": "display_data"
    }
   ],
   "source": [
    "vals=c();\n",
    "vals1=c();\n",
    "for (m in c(3,12,13,15,18)){\n",
    "  to = c(3*m,3*m+1,3*m+2)+7;\n",
    "  vals = rbind(vals,unclass(xtr2[ss[1],to]));\n",
    "}\n",
    "for (m in c(3,12,13,15,18)){\n",
    "  to = c(3*m,3*m+1,3*m+2)+7;\n",
    "  vv = unclass(xtr2[ss[2],to]*c(1,1,1));\n",
    "  vals1 = rbind(vals1,vv);\n",
    "}\n",
    "\n",
    "p3d=scatterplot3d(vals[,1], vals[,2], vals[,3],pch=c(\"+\",\"l\",\"r\",\"b\",\"n\"),\n",
    "                  highlight.3d = F,  angle = 220,\n",
    "                  col.axis = \"blue\")\n",
    "\n",
    "\n",
    "p3d$points(vals1[,1], vals1[,2], vals1[,3],pch=c(\"+\",\"l\",\"r\",\"b\",\"n\"),col=\"red\")\n",
    "vals\n",
    "vals1"
   ]
  },
  {
   "cell_type": "code",
   "execution_count": 244,
   "metadata": {
    "collapsed": true
   },
   "outputs": [],
   "source": [
    "#looks like we managed to align crania\n",
    "#Lets scale it\n",
    "xscale = abs(xtr2[,nas][,1]);\n",
    "yscale = sqrt(apply((xtr2[,fmtr] - xtr2[,fmtl])^2,1,sum));\n",
    "zscale = sqrt(apply((xtr2[,brg] - xtr2[,nas]/c(2,1,1))^2,1,sum));"
   ]
  },
  {
   "cell_type": "code",
   "execution_count": 245,
   "metadata": {
    "collapsed": true
   },
   "outputs": [],
   "source": [
    "xsc=xtr2;\n",
    "for (j in 1:dim(x0)[1]){\n",
    "  for (i in vs1){\n",
    "    to = c(3*i,3*i+1,3*i+2)+7;  \n",
    "    var = as.double(matrix(xtr2[j,to],nrow=3))/c(xscale[j],yscale[j],zscale[j]); #scale\n",
    "    xsc[j,to] = var\n",
    "  }\n",
    "}"
   ]
  },
  {
   "cell_type": "code",
   "execution_count": 246,
   "metadata": {},
   "outputs": [
    {
     "data": {
      "text/html": [
       "<ol class=list-inline>\n",
       "\t<li>0.250244270192095</li>\n",
       "\t<li>0.344209096899803</li>\n",
       "\t<li>0.407855446405359</li>\n",
       "\t<li>0.453563632199698</li>\n",
       "\t<li>0.484153448547845</li>\n",
       "\t<li>0.511278642968027</li>\n",
       "\t<li>0.537163960330413</li>\n",
       "\t<li>0.560694155985601</li>\n",
       "\t<li>0.582506551841999</li>\n",
       "\t<li>0.601505611716573</li>\n",
       "\t<li>0.620044553968183</li>\n",
       "\t<li>0.636639647424421</li>\n",
       "\t<li>0.652699743421198</li>\n",
       "\t<li>0.668662561682495</li>\n",
       "\t<li>0.683138705545387</li>\n",
       "\t<li>0.696975065497015</li>\n",
       "\t<li>0.710347914137759</li>\n",
       "\t<li>0.723209074190589</li>\n",
       "\t<li>0.735217718483973</li>\n",
       "\t<li>0.746409600934794</li>\n",
       "\t<li>0.757349537462485</li>\n",
       "\t<li>0.767798507511933</li>\n",
       "\t<li>0.777935155518389</li>\n",
       "\t<li>0.787766804375867</li>\n",
       "\t<li>0.797276380342069</li>\n",
       "\t<li>0.806681359097888</li>\n",
       "\t<li>0.815919641033239</li>\n",
       "\t<li>0.824562747228865</li>\n",
       "</ol>\n"
      ],
      "text/latex": [
       "\\begin{enumerate*}\n",
       "\\item 0.250244270192095\n",
       "\\item 0.344209096899803\n",
       "\\item 0.407855446405359\n",
       "\\item 0.453563632199698\n",
       "\\item 0.484153448547845\n",
       "\\item 0.511278642968027\n",
       "\\item 0.537163960330413\n",
       "\\item 0.560694155985601\n",
       "\\item 0.582506551841999\n",
       "\\item 0.601505611716573\n",
       "\\item 0.620044553968183\n",
       "\\item 0.636639647424421\n",
       "\\item 0.652699743421198\n",
       "\\item 0.668662561682495\n",
       "\\item 0.683138705545387\n",
       "\\item 0.696975065497015\n",
       "\\item 0.710347914137759\n",
       "\\item 0.723209074190589\n",
       "\\item 0.735217718483973\n",
       "\\item 0.746409600934794\n",
       "\\item 0.757349537462485\n",
       "\\item 0.767798507511933\n",
       "\\item 0.777935155518389\n",
       "\\item 0.787766804375867\n",
       "\\item 0.797276380342069\n",
       "\\item 0.806681359097888\n",
       "\\item 0.815919641033239\n",
       "\\item 0.824562747228865\n",
       "\\end{enumerate*}\n"
      ],
      "text/markdown": [
       "1. 0.250244270192095\n",
       "2. 0.344209096899803\n",
       "3. 0.407855446405359\n",
       "4. 0.453563632199698\n",
       "5. 0.484153448547845\n",
       "6. 0.511278642968027\n",
       "7. 0.537163960330413\n",
       "8. 0.560694155985601\n",
       "9. 0.582506551841999\n",
       "10. 0.601505611716573\n",
       "11. 0.620044553968183\n",
       "12. 0.636639647424421\n",
       "13. 0.652699743421198\n",
       "14. 0.668662561682495\n",
       "15. 0.683138705545387\n",
       "16. 0.696975065497015\n",
       "17. 0.710347914137759\n",
       "18. 0.723209074190589\n",
       "19. 0.735217718483973\n",
       "20. 0.746409600934794\n",
       "21. 0.757349537462485\n",
       "22. 0.767798507511933\n",
       "23. 0.777935155518389\n",
       "24. 0.787766804375867\n",
       "25. 0.797276380342069\n",
       "26. 0.806681359097888\n",
       "27. 0.815919641033239\n",
       "28. 0.824562747228865\n",
       "\n",
       "\n"
      ],
      "text/plain": [
       " [1] 0.2502443 0.3442091 0.4078554 0.4535636 0.4841534 0.5112786 0.5371640\n",
       " [8] 0.5606942 0.5825066 0.6015056 0.6200446 0.6366396 0.6526997 0.6686626\n",
       "[15] 0.6831387 0.6969751 0.7103479 0.7232091 0.7352177 0.7464096 0.7573495\n",
       "[22] 0.7677985 0.7779352 0.7877668 0.7972764 0.8066814 0.8159196 0.8245627"
      ]
     },
     "metadata": {},
     "output_type": "display_data"
    }
   ],
   "source": [
    "vars = c();\n",
    "for (i in vs1) vars = c(vars, c(3*i,3*i+1,3*i+2)+7) \n",
    "ev = prcomp(xsc[,vars])$sdev;\n",
    "(cumsum(ev)/sum(ev))[1:28];"
   ]
  },
  {
   "cell_type": "code",
   "execution_count": 247,
   "metadata": {},
   "outputs": [
    {
     "name": "stdout",
     "output_type": "stream",
     "text": [
      "[1] \"z.3\"  \"z.4\"  \"z.17\" \"z.18\" \"z.20\" \"z.27\" \"z.31\" \"z.32\"\n",
      "character(0)\n",
      "[1] \"z.4\"  \"z.15\"\n",
      "[1] \"z.1\"  \"z.2\"  \"z.4\"  \"z.27\"\n",
      "[1] \"y.1\"  \"y.2\"  \"y.17\" \"y.18\"\n",
      "[1] \"x.1\"  \"z.2\"  \"z.3\"  \"y.18\"\n",
      "[1] \"z.2\"  \"x.31\" \"x.32\"\n",
      "[1] \"z.4\"  \"y.17\"\n",
      "[1] \"z.1\"  \"y.4\"  \"y.18\" \"z.18\"\n",
      "[1] \"z.3\"  \"z.17\" \"z.18\" \"y.31\" \"y.33\" \"y.34\"\n",
      "[1] \"z.2\"  \"z.3\"  \"z.17\" \"z.27\" \"y.33\" \"y.34\"\n",
      "[1] \"y.1\"  \"y.17\" \"y.20\"\n",
      "[1] \"z.2\"  \"z.3\"  \"y.18\"\n",
      "[1] \"z.1\"  \"z.31\" \"z.32\"\n",
      "[1] \"z.15\" \"z.27\" \"z.31\" \"z.32\"\n",
      "[1] \"y.2\"  \"z.2\"  \"x.4\"  \"y.32\"\n",
      "[1] \"y.1\"  \"x.4\"  \"x.18\" \"y.20\" \"z.30\"\n",
      "[1] \"x.1\"  \"z.1\"  \"z.2\"  \"y.20\"\n",
      "[1] \"x.4\"  \"y.20\"\n",
      "[1] \"z.1\"  \"z.30\" \"y.31\" \"z.32\"\n",
      "[1] \"x.2\"  \"x.4\"  \"y.4\"  \"y.20\" \"y.31\"\n",
      "[1] \"y.4\"  \"x.20\" \"x.30\"\n",
      "[1] \"x.4\"  \"z.15\" \"z.29\"\n",
      "[1] \"z.9\"  \"z.15\" \"y.17\" \"x.30\" \"z.30\" \"y.33\"\n",
      "[1] \"x.2\"  \"y.17\" \"x.30\"\n",
      "[1] \"z.5\"  \"z.15\" \"z.28\" \"z.29\"\n",
      "[1] \"x.1\"  \"x.17\" \"z.17\" \"x.18\" \"y.20\" \"x.30\"\n",
      "[1] \"x.1\"  \"y.2\"  \"y.18\"\n"
     ]
    }
   ],
   "source": [
    "#28 top eigenvalues explain 80% of the variance\n",
    "useful = c()\n",
    "for (i in 1:28){\n",
    " cmp1=abs(prcomp(xsc[,vars])$rotation[,i])>.25\n",
    " print(names(cmp1)[cmp1])\n",
    " for (n in names(cmp1)[cmp1]) useful = c(useful, n)\n",
    "}\n",
    "useful=names(table(useful))    "
   ]
  },
  {
   "cell_type": "code",
   "execution_count": 248,
   "metadata": {
    "collapsed": true
   },
   "outputs": [],
   "source": [
    "#now that we rescaled, can we detect females?\n",
    "xsc$male = xsc[,6]=='male'\n",
    "fmla=paste('male~',paste(useful,collapse=\"+\"), sep=\"\");\n",
    "mod=glm(as.formula(fmla),data=xsc,family=binomial)"
   ]
  },
  {
   "cell_type": "code",
   "execution_count": 249,
   "metadata": {},
   "outputs": [
    {
     "data": {
      "text/plain": [
       "\n",
       "Call:\n",
       "glm(formula = as.formula(fmla), family = binomial, data = xsc)\n",
       "\n",
       "Deviance Residuals: \n",
       "    Min       1Q   Median       3Q      Max  \n",
       "-2.3429  -0.9248  -0.5594   1.0271   2.4943  \n",
       "\n",
       "Coefficients:\n",
       "            Estimate Std. Error z value Pr(>|z|)    \n",
       "(Intercept)  -1.7793     5.0775  -0.350 0.726014    \n",
       "x.1          11.6446     4.8154   2.418 0.015598 *  \n",
       "x.17         -2.7730     6.0863  -0.456 0.648668    \n",
       "x.18         -9.7716     5.9556  -1.641 0.100851    \n",
       "x.2           5.0144     4.6137   1.087 0.277103    \n",
       "x.20         19.8322     5.3123   3.733 0.000189 ***\n",
       "x.30         -3.9929     4.0983  -0.974 0.329916    \n",
       "x.31        -15.5598     8.4486  -1.842 0.065520 .  \n",
       "x.32          6.5018     8.0857   0.804 0.421337    \n",
       "x.4           0.3478     2.9989   0.116 0.907674    \n",
       "y.1           5.9075     3.6119   1.636 0.101930    \n",
       "y.17         -5.9869     3.8905  -1.539 0.123836    \n",
       "y.18          5.4418     3.8703   1.406 0.159718    \n",
       "y.2           1.4695     3.5958   0.409 0.682771    \n",
       "y.20          0.5730     2.6377   0.217 0.828041    \n",
       "y.31         -6.0448     3.8087  -1.587 0.112492    \n",
       "y.32          3.5264     3.8402   0.918 0.358469    \n",
       "y.33         -4.2392     3.1203  -1.359 0.174283    \n",
       "y.34          1.1732     3.3075   0.355 0.722801    \n",
       "y.4          -3.4223     3.0296  -1.130 0.258646    \n",
       "z.1           3.5087     2.5813   1.359 0.174056    \n",
       "z.15         -9.6540     3.4048  -2.835 0.004577 ** \n",
       "z.17         -2.5486     3.6066  -0.707 0.479780    \n",
       "z.18         -5.0868     3.3262  -1.529 0.126187    \n",
       "z.2          -3.5837     2.4267  -1.477 0.139734    \n",
       "z.20          0.4754     4.3493   0.109 0.912957    \n",
       "z.27         -3.2406     3.8118  -0.850 0.395237    \n",
       "z.28        -14.1475     7.8094  -1.812 0.070047 .  \n",
       "z.29         25.8383     7.4691   3.459 0.000541 ***\n",
       "z.3           2.4000     1.9195   1.250 0.211167    \n",
       "z.30         13.3502     3.3049   4.039 5.36e-05 ***\n",
       "z.31         -8.0287     4.4678  -1.797 0.072336 .  \n",
       "z.32         -0.9459     4.0709  -0.232 0.816259    \n",
       "z.4          -2.7692     1.3644  -2.030 0.042399 *  \n",
       "z.5          14.0747     4.8318   2.913 0.003580 ** \n",
       "z.9          -3.0586     4.2835  -0.714 0.475211    \n",
       "---\n",
       "Signif. codes:  0 '***' 0.001 '**' 0.01 '*' 0.05 '.' 0.1 ' ' 1\n",
       "\n",
       "(Dispersion parameter for binomial family taken to be 1)\n",
       "\n",
       "    Null deviance: 1235.8  on 907  degrees of freedom\n",
       "Residual deviance: 1057.5  on 872  degrees of freedom\n",
       "AIC: 1129.5\n",
       "\n",
       "Number of Fisher Scoring iterations: 4\n"
      ]
     },
     "metadata": {},
     "output_type": "display_data"
    }
   ],
   "source": [
    "# works, but not great\n",
    "summary(mod)"
   ]
  },
  {
   "cell_type": "code",
   "execution_count": 250,
   "metadata": {},
   "outputs": [
    {
     "data": {
      "text/plain": [
       "\n",
       "                               -999          Albanian                C? \n",
       "              621                 7                 2                 1 \n",
       "               H?          Hispanic     Hispanic_cuba         Macedonia \n",
       "                1                 2                18                16 \n",
       "Southern_Yugoslav      Spain-Basque            Turkey         Umatilla? \n",
       "                6                 0                17                 1 \n",
       "  Yugoslav_Bosnia        Yugoslavia              arch             black \n",
       "                0                 7                 0                48 \n",
       "          unknown             white         whitehite \n",
       "                3               154                 4 "
      ]
     },
     "metadata": {},
     "output_type": "display_data"
    }
   ],
   "source": [
    "table(xsc[,3])"
   ]
  },
  {
   "cell_type": "code",
   "execution_count": 251,
   "metadata": {},
   "outputs": [
    {
     "data": {
      "text/plain": [
       "\n",
       "Call:\n",
       "glm(formula = as.formula(fmla), family = binomial, data = xsc)\n",
       "\n",
       "Deviance Residuals: \n",
       "    Min       1Q   Median       3Q      Max  \n",
       "-2.7866  -0.5183  -0.2274   0.2238   2.5809  \n",
       "\n",
       "Coefficients:\n",
       "            Estimate Std. Error z value Pr(>|z|)    \n",
       "(Intercept)   33.479      7.152   4.681 2.86e-06 ***\n",
       "x.1          -12.146      6.119  -1.985 0.047150 *  \n",
       "x.17         -38.253      8.514  -4.493 7.02e-06 ***\n",
       "x.18           8.021      7.935   1.011 0.312094    \n",
       "x.2           18.713      6.238   3.000 0.002700 ** \n",
       "x.20          28.349      7.400   3.831 0.000128 ***\n",
       "x.30          29.586      5.392   5.487 4.10e-08 ***\n",
       "x.31         -19.304     11.522  -1.675 0.093860 .  \n",
       "x.32          29.817     11.446   2.605 0.009187 ** \n",
       "x.4           -2.967      4.177  -0.710 0.477599    \n",
       "y.1           -1.741      4.809  -0.362 0.717302    \n",
       "y.17         -11.660      5.325  -2.189 0.028563 *  \n",
       "y.18          -3.232      5.116  -0.632 0.527571    \n",
       "y.2           16.739      4.894   3.420 0.000626 ***\n",
       "y.20          -3.046      4.320  -0.705 0.480736    \n",
       "y.31          -1.284      5.173  -0.248 0.804009    \n",
       "y.32          -4.160      5.292  -0.786 0.431862    \n",
       "y.33           8.238      4.304   1.914 0.055600 .  \n",
       "y.34           1.299      4.605   0.282 0.777911    \n",
       "y.4           -3.238      4.128  -0.785 0.432722    \n",
       "z.1            3.898      3.702   1.053 0.292331    \n",
       "z.15         -13.950      4.790  -2.912 0.003590 ** \n",
       "z.17          -9.982      4.973  -2.007 0.044710 *  \n",
       "z.18          16.837      4.519   3.726 0.000195 ***\n",
       "z.2          -14.257      3.439  -4.146 3.39e-05 ***\n",
       "z.20          31.094      6.101   5.097 3.46e-07 ***\n",
       "z.27         -31.139      5.496  -5.666 1.47e-08 ***\n",
       "z.28          -7.597     10.956  -0.693 0.488084    \n",
       "z.29          16.697     10.205   1.636 0.101782    \n",
       "z.3           -7.601      2.784  -2.730 0.006324 ** \n",
       "z.30          -4.961      4.207  -1.179 0.238251    \n",
       "z.31          12.046      6.209   1.940 0.052362 .  \n",
       "z.32          -6.157      5.471  -1.125 0.260429    \n",
       "z.4           -1.232      1.898  -0.649 0.516270    \n",
       "z.5           22.725      6.689   3.397 0.000681 ***\n",
       "z.9           -1.925      6.071  -0.317 0.751152    \n",
       "---\n",
       "Signif. codes:  0 '***' 0.001 '**' 0.01 '*' 0.05 '.' 0.1 ' ' 1\n",
       "\n",
       "(Dispersion parameter for binomial family taken to be 1)\n",
       "\n",
       "    Null deviance: 1034.17  on 907  degrees of freedom\n",
       "Residual deviance:  616.77  on 872  degrees of freedom\n",
       "AIC: 688.77\n",
       "\n",
       "Number of Fisher Scoring iterations: 6\n"
      ]
     },
     "metadata": {},
     "output_type": "display_data"
    }
   ],
   "source": [
    "#now that we rescaled, can we detect \"white\"?\n",
    "xsc$white = xsc[,3]=='white'|xsc[,4]=='white'|xsc[,5]==\"White\"|xsc[,5]==\"white\"\n",
    "fmla=paste('white~',paste(useful,collapse=\"+\"), sep=\"\");\n",
    "mod=glm(as.formula(fmla),data=xsc,family=binomial)\n",
    "# works ok, better than male/female\n",
    "summary(mod)"
   ]
  },
  {
   "cell_type": "code",
   "execution_count": 222,
   "metadata": {},
   "outputs": [
    {
     "data": {
      "text/plain": [
       "\n",
       "                     CAPHIL          CUBA       DONATED EAST_EUROPEAN \n",
       "           95            10            18           170            48 \n",
       "     FORENSIC         GUAT?        Morton    NEW_MEXICO        OLORIZ \n",
       "           22            20            89            43           120 \n",
       "          SI?         TERRY    UT_DONATED \n",
       "            8           164           101 "
      ]
     },
     "metadata": {},
     "output_type": "display_data"
    }
   ],
   "source": [
    "table(xsc[,2])"
   ]
  },
  {
   "cell_type": "code",
   "execution_count": 223,
   "metadata": {},
   "outputs": [
    {
     "data": {
      "text/plain": [
       "\n",
       "                               -999 Chinese_Mongolian      Cuba_African \n",
       "              527                 1                 8                21 \n",
       "   Hispanic_Chile            Oloriz  Toltecan_Mexican             black \n",
       "               53               120                 7               102 \n",
       "            white \n",
       "               69 "
      ]
     },
     "metadata": {},
     "output_type": "display_data"
    }
   ],
   "source": [
    "table(xsc[,4])"
   ]
  },
  {
   "cell_type": "code",
   "execution_count": 224,
   "metadata": {},
   "outputs": [
    {
     "data": {
      "text/plain": [
       "\n",
       "                                                      Asian \n",
       "                          856                             0 \n",
       "                        Black                      Hispanic \n",
       "                            2                             1 \n",
       "           Hispanic_Guatamala               Hispanic_mexico \n",
       "                           20                             2 \n",
       "                          W/H                         White \n",
       "                            0                             9 \n",
       "              hispanic_panama hispanic_panama_afroantillean \n",
       "                            4                             5 \n",
       "                hispanic_peru                         white \n",
       "                            7                             2 "
      ]
     },
     "metadata": {},
     "output_type": "display_data"
    }
   ],
   "source": [
    "table(xsc[,5])"
   ]
  },
  {
   "cell_type": "code",
   "execution_count": 225,
   "metadata": {},
   "outputs": [
    {
     "data": {
      "text/plain": [
       "\n",
       "           -999       ?       F      F?       M      M?  female    male   male? \n",
       "    196       8      24       5       0      28       3     258     382       3 \n",
       "unknown \n",
       "      1 "
      ]
     },
     "metadata": {},
     "output_type": "display_data"
    }
   ],
   "source": [
    "table(xsc[,6])"
   ]
  },
  {
   "cell_type": "code",
   "execution_count": 270,
   "metadata": {},
   "outputs": [],
   "source": [
    "#Lets try RandomForest to see if classess can be recovered\n",
    "\n",
    "library(randomForest);\n",
    "xsc$black = xsc[,3]=='black'|xsc[,4]=='black'|xsc[,5]==\"Black\"\n",
    "xsc$ee = xsc[,3]=='Albanian'|xsc[,4]=='EAST_EUROPEAN'|xsc[,3]==\"Macedonia\"|xsc[,3]==\"Southern_Yugoslav\"\n",
    "xsc$hisCh = xsc[,4]==\"Hispanic_Chile\";\n",
    "xsc$race = rep(\"\",dim(xsc)[1]);\n",
    "xsc$race[xsc$black] = \"black\";\n",
    "xsc$race[xsc$ee] = \"ee\";\n",
    "xsc$race[xsc$hisCh] = \"hisCh\";\n",
    "xsc$race[xsc$white==\"TRUE\"] = \"white\";\n",
    "xsc1 = xsc [xsc$race!=\"\",];"
   ]
  },
  {
   "cell_type": "code",
   "execution_count": 280,
   "metadata": {},
   "outputs": [
    {
     "name": "stdout",
     "output_type": "stream",
     "text": [
      "       prediction\n",
      "        black ee hisCh white\n",
      "  black    17  0     0    10\n",
      "  ee        1  0     1     4\n",
      "  hisCh     2  0     1     8\n",
      "  white     2  0     0    45\n",
      "\n",
      "FALSE  TRUE \n",
      "   28    63 \n",
      "       prediction\n",
      "        black ee hisCh white\n",
      "  black    21  0     0     9\n",
      "  ee        5  0     0     1\n",
      "  hisCh     2  0     3     7\n",
      "  white     4  0     0    39\n",
      "\n",
      "FALSE  TRUE \n",
      "   28    63 \n",
      "       prediction\n",
      "        black ee hisCh white\n",
      "  black    17  0     0    10\n",
      "  ee        1  0     0     2\n",
      "  hisCh     1  0     1     9\n",
      "  white     5  0     0    45\n",
      "\n",
      "FALSE  TRUE \n",
      "   28    63 \n",
      "       prediction\n",
      "        black ee hisCh white\n",
      "  black    25  0     0    10\n",
      "  ee        2  0     0     4\n",
      "  hisCh     0  0     2     5\n",
      "  white     3  0     0    40\n",
      "\n",
      "FALSE  TRUE \n",
      "   24    67 \n",
      "       prediction\n",
      "        black ee hisCh white\n",
      "  black    18  0     0     8\n",
      "  ee        1  0     0     2\n",
      "  hisCh     1  0     3     8\n",
      "  white     7  0     2    41\n",
      "\n",
      "FALSE  TRUE \n",
      "   29    62 \n"
     ]
    }
   ],
   "source": [
    "# Five-fold cross-validation\n",
    "fmla=paste('race~',paste(useful,collapse=\"+\"), sep=\"\");\n",
    "xsc1$race=as.factor(xsc1$race)\n",
    "k = 5\n",
    "n=floor(nrow(xsc1)/k)\n",
    "\n",
    "for (i in 1:k){\n",
    "  s1=((i-1)*n+1)\n",
    "  s2=(n*i)\n",
    "  sub=s1:s2\n",
    "  train=xsc1[-sub,]\n",
    "  test=xsc1[sub,]\n",
    "  model=randomForest(as.formula(fmla),data=train, importance=T)\n",
    "  prediction=predict(model,newdata=test[,vars])\n",
    "  print(table(test$race,prediction))\n",
    "  print(table(test$race==prediction))  \n",
    "}\n"
   ]
  },
  {
   "cell_type": "code",
   "execution_count": 272,
   "metadata": {},
   "outputs": [
    {
     "data": {
      "text/plain": [
       "\n",
       "black    ee hisCh white \n",
       "  145    24    53   233 "
      ]
     },
     "metadata": {},
     "output_type": "display_data"
    }
   ],
   "source": [
    "table(xsc1$race)"
   ]
  },
  {
   "cell_type": "markdown",
   "metadata": {},
   "source": [
    "## No such thing as Eastern European or Hispanic from Chile\n",
    "## 30+% error ob B/W"
   ]
  },
  {
   "cell_type": "code",
   "execution_count": null,
   "metadata": {
    "collapsed": true
   },
   "outputs": [],
   "source": []
  }
 ],
 "metadata": {
  "kernelspec": {
   "display_name": "R",
   "language": "R",
   "name": "ir"
  },
  "language_info": {
   "codemirror_mode": "r",
   "file_extension": ".r",
   "mimetype": "text/x-r-source",
   "name": "R",
   "pygments_lexer": "r",
   "version": "3.4.1"
  }
 },
 "nbformat": 4,
 "nbformat_minor": 2
}
