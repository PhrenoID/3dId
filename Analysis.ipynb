{
 "cells": [
  {
   "cell_type": "code",
   "execution_count": 148,
   "metadata": {},
   "outputs": [
    {
     "data": {
      "text/plain": [
       "      COLLECTION        GROUP                 POP     \n",
       " DONATED   :181            :716                 :635  \n",
       " TERRY     :174   white    :173   Oloriz        :130  \n",
       " OLORIZ    :130   black    : 53   black         :108  \n",
       " Morton    :124   Turkey   : 33   Hispanic_Chile: 74  \n",
       " UT_DONATED:118   Macedonia: 22   white         : 74  \n",
       "           : 99   (Other)  : 74   Cuba_African  : 27  \n",
       " (Other)   :246   NA's     :  1   (Other)       : 24  \n",
       "                            RACE           SEX           x.1         \n",
       "                              :1001   male   :442   Min.   :-252.17  \n",
       " Hispanic_Guatamala           :  21   female :295   1st Qu.:  29.28  \n",
       " White                        :  15          :217   Median : 117.85  \n",
       " hispanic_panama              :   8   M      : 48   Mean   :  83.27  \n",
       " hispanic_peru                :   8   ?      : 43   3rd Qu.: 160.11  \n",
       " hispanic_panama_afroantillean:   6   F      :  9   Max.   : 332.60  \n",
       " (Other)                      :  13   (Other): 18   NA's   :15       \n",
       "      y.1         \n",
       " Min.   :-262.12  \n",
       " 1st Qu.:-153.82  \n",
       " Median :  28.72  \n",
       " Mean   :  38.31  \n",
       " 3rd Qu.: 239.40  \n",
       " Max.   : 368.16  \n",
       " NA's   :15       "
      ]
     },
     "metadata": {},
     "output_type": "display_data"
    }
   ],
   "source": [
    "x=read.table(\"3d_id.csv1\",sep=';',quote=\"\",comment.char=\"\");\n",
    "l=read.table(\"labs\");\n",
    "\n",
    "labs=as.character(l[1:5,1]);\n",
    "labs=c(\"id\",labs,paste(rep(c(\"x\",\"y\",\"z\"),35),rep(1:35,rep(3,35)),sep=\".\"));\n",
    "names(x)=labs;\n",
    "#make NAs\n",
    "for (i in 7:111) x[x[,i]==-999,i] = NA;\n",
    "\n",
    "\n",
    "#now all observationas are ready\n",
    "summary(x[,2:8])"
   ]
  },
  {
   "cell_type": "markdown",
   "metadata": {},
   "source": [
    "These are basic stats. The first component of the first variable is all over the place, presumably the rotation invariant of the coordinates is needed for comparison."
   ]
  },
  {
   "cell_type": "code",
   "execution_count": 149,
   "metadata": {},
   "outputs": [
    {
     "data": {
      "text/plain": [
       "\n",
       "FALSE  TRUE \n",
       "  111   961 "
      ]
     },
     "metadata": {},
     "output_type": "display_data"
    }
   ],
   "source": [
    "#only 111 observations are complete?\n",
    "table(is.na(apply(x[,7:111],1,sum)))"
   ]
  },
  {
   "cell_type": "markdown",
   "metadata": {},
   "source": [
    "We need to align (register) the measurements. This can be separated into three steps:\n",
    "    - selecting origin\n",
    "    - aligning two axis\n",
    "    - possibly rescaling\n",
    "\n",
    "Without loss of generality lets pick  the back of the cranium (point Lambda or number 16) as the origin. Other options may be better, e.g., centroid, but it is easier to explain."
   ]
  },
  {
   "cell_type": "code",
   "execution_count": 150,
   "metadata": {},
   "outputs": [
    {
     "data": {
      "text/plain": [
       "sel\n",
       "FALSE  TRUE \n",
       "  164   908 "
      ]
     },
     "metadata": {},
     "output_type": "display_data"
    }
   ],
   "source": [
    "#separate covariates\n",
    "y=x[,1:7];\n",
    "\n",
    "#now these are mostly non-missing measures\n",
    "vs1 = c(0:4,8:15,16:19,26:33);\n",
    "lambda = c(3*15,3*15+1,3*15+2)+7;\n",
    "for (i in vs1){\n",
    "  to = c(3*i,3*i+1,3*i+2)+7;\n",
    "  y=cbind(y,x[,to]-x[,lambda]);\n",
    "}\n",
    "#Make sure all are non-nissing\n",
    "sel = !is.na(apply(y[,-c(1:7)],1,sum));\n",
    "table(sel)"
   ]
  },
  {
   "cell_type": "code",
   "execution_count": 151,
   "metadata": {},
   "outputs": [
    {
     "data": {
      "text/plain": [
       "      x.16              y.16              z.16       \n",
       " Min.   :-172.20   Min.   :-335.00   Min.   : 10.58  \n",
       " 1st Qu.:  21.28   1st Qu.:-198.48   1st Qu.:151.14  \n",
       " Median :  65.10   Median :  34.86   Median :188.49  \n",
       " Mean   :  64.84   Mean   :  12.50   Mean   :175.78  \n",
       " 3rd Qu.: 132.65   3rd Qu.: 202.01   3rd Qu.:214.51  \n",
       " Max.   : 267.95   Max.   : 439.57   Max.   :298.77  "
      ]
     },
     "metadata": {},
     "output_type": "display_data"
    }
   ],
   "source": [
    "# is there any pattern?\n",
    "summary(x[sel,lambda])"
   ]
  },
  {
   "cell_type": "markdown",
   "metadata": {},
   "source": [
    "Origin may be less varying if we pick one measurer/one apparatus, so it might help identifying who did the measurement"
   ]
  },
  {
   "cell_type": "markdown",
   "metadata": {},
   "source": [
    "Lets align the first axis based on the point lammda and nasion (20)"
   ]
  },
  {
   "cell_type": "code",
   "execution_count": 152,
   "metadata": {
    "collapsed": true
   },
   "outputs": [],
   "source": [
    "#nasion\n",
    "nas = c(3*18,3*18+1,3*18+2)+7;\n",
    "#frontomalare temporale\n",
    "fmtr = c(3*13,3*13+1,3*13+2)+7;\n",
    "fmtl = c(3*12,3*12+1,3*12+2)+7;\n",
    "#top of cranium: bregma\n",
    "brg = c(3*3,3*3+1,3*3+2)+7;"
   ]
  },
  {
   "cell_type": "code",
   "execution_count": 153,
   "metadata": {},
   "outputs": [
    {
     "data": {
      "text/plain": [
       "      x.19                y.19                z.19        \n",
       " Min.   :-147.2750   Min.   :-171.2530   Min.   :  3.955  \n",
       " 1st Qu.:  -0.0155   1st Qu.: -16.1137   1st Qu.: 99.538  \n",
       " Median :  15.2730   Median :  -1.7840   Median :158.024  \n",
       " Mean   :  26.4855   Mean   :   0.1674   Mean   :132.064  \n",
       " 3rd Qu.:  40.6343   3rd Qu.:   9.5370   3rd Qu.:171.782  \n",
       " Max.   : 183.1630   Max.   : 156.8900   Max.   :202.380  "
      ]
     },
     "metadata": {},
     "output_type": "display_data"
    },
    {
     "data": {
      "text/plain": [
       "      x.14              y.14               z.14         \n",
       " Min.   :-113.32   Min.   :-115.842   Min.   :-19.6610  \n",
       " 1st Qu.: -12.31   1st Qu.:-100.887   1st Qu.: -4.6490  \n",
       " Median :  10.71   Median : -94.003   Median : -1.6520  \n",
       " Mean   :  11.98   Mean   : -53.521   Mean   : -1.6654  \n",
       " 3rd Qu.:  40.45   3rd Qu.:  -0.912   3rd Qu.:  0.6162  \n",
       " Max.   : 110.59   Max.   : 103.769   Max.   : 19.1960  "
      ]
     },
     "metadata": {},
     "output_type": "display_data"
    }
   ],
   "source": [
    "summary(x[sel,nas]-x[sel,lambda])\n",
    "summary(x[sel,fmtr]-x[sel,fmtl])"
   ]
  },
  {
   "cell_type": "code",
   "execution_count": 154,
   "metadata": {},
   "outputs": [
    {
     "data": {
      "image/png": "[encoded data removed]",
      "text/plain": [
       "Plot with title \"Histogram of apply(a1n[, ] * a2n[, ], 1, sum)\""
      ]
     },
     "metadata": {},
     "output_type": "display_data"
    }
   ],
   "source": [
    "x0 = x[sel,];\n",
    "#Rotate all vectors nas-lambda to align with (1,0,0)\n",
    "#Rotate all vectors fmtr-fmtl to align with (0,1,0)\n",
    "a1=x0[,nas]-x0[,lambda]\n",
    "a2=x0[,fmtr]-x0[,fmtl]\n",
    "#normalize\n",
    "a1n = a1/sqrt(apply(a1*a1,1,sum)) \n",
    "a2n = a2/sqrt(apply(a2*a2,1,sum)) \n",
    "#lets see if these are orthogonal\n",
    "hist(apply(a1n[,]*a2n[,],1,sum))"
   ]
  },
  {
   "cell_type": "markdown",
   "metadata": {},
   "source": [
    "The axes are not orthogonal, how bad the measuremeent must be?\n",
    "  - Pick another candidate pair?\n",
    "  - Garbage data?\n",
    "  - Make rotation around lambda-nasion axis?\n"
   ]
  },
  {
   "cell_type": "code",
   "execution_count": 155,
   "metadata": {},
   "outputs": [
    {
     "data": {
      "text/html": [
       "30"
      ],
      "text/latex": [
       "30"
      ],
      "text/markdown": [
       "30"
      ],
      "text/plain": [
       "[1] 30"
      ]
     },
     "metadata": {},
     "output_type": "display_data"
    },
    {
     "data": {
      "text/html": [
       "<ol class=list-inline>\n",
       "\t<li>126</li>\n",
       "\t<li>411</li>\n",
       "</ol>\n"
      ],
      "text/latex": [
       "\\begin{enumerate*}\n",
       "\\item 126\n",
       "\\item 411\n",
       "\\end{enumerate*}\n"
      ],
      "text/markdown": [
       "1. 126\n",
       "2. 411\n",
       "\n",
       "\n"
      ],
      "text/plain": [
       "[1] 126 411"
      ]
     },
     "metadata": {},
     "output_type": "display_data"
    }
   ],
   "source": [
    "# a set that is quite orthogonal\n",
    "ss = abs(apply(a1n[,]*a2n[,],1,sum))<.001\n",
    "ss=(1:dim(x0)[1])[ss]\n",
    "length(ss)\n",
    "\n",
    "#bad, not orthogonal\n",
    "sbad = apply(a1n[,]*a2n[,],1,sum)< -.1\n",
    "sbad=(1:dim(x0)[1])[sbad]\n",
    "sbad"
   ]
  },
  {
   "cell_type": "code",
   "execution_count": 131,
   "metadata": {},
   "outputs": [
    {
     "data": {
      "text/html": [
       "<dl>\n",
       "\t<dt>$x</dt>\n",
       "\t\t<dd><ol class=list-inline>\n",
       "\t<li>0.836483333333333</li>\n",
       "\t<li>2.49826666666667</li>\n",
       "\t<li>3.78066333333333</li>\n",
       "\t<li>-0.178336666666666</li>\n",
       "\t<li>3.53601666666667</li>\n",
       "</ol>\n",
       "</dd>\n",
       "\t<dt>$y</dt>\n",
       "\t\t<dd><ol class=list-inline>\n",
       "\t<li>21.8072333333333</li>\n",
       "\t<li>21.0501666666667</li>\n",
       "\t<li>16.6619333333333</li>\n",
       "\t<li>16.0577333333333</li>\n",
       "\t<li>19.7872166666667</li>\n",
       "</ol>\n",
       "</dd>\n",
       "</dl>\n"
      ],
      "text/latex": [
       "\\begin{description}\n",
       "\\item[\\$x] \\begin{enumerate*}\n",
       "\\item 0.836483333333333\n",
       "\\item 2.49826666666667\n",
       "\\item 3.78066333333333\n",
       "\\item -0.178336666666666\n",
       "\\item 3.53601666666667\n",
       "\\end{enumerate*}\n",
       "\n",
       "\\item[\\$y] \\begin{enumerate*}\n",
       "\\item 21.8072333333333\n",
       "\\item 21.0501666666667\n",
       "\\item 16.6619333333333\n",
       "\\item 16.0577333333333\n",
       "\\item 19.7872166666667\n",
       "\\end{enumerate*}\n",
       "\n",
       "\\end{description}\n"
      ],
      "text/markdown": [
       "$x\n",
       ":   1. 0.836483333333333\n",
       "2. 2.49826666666667\n",
       "3. 3.78066333333333\n",
       "4. -0.178336666666666\n",
       "5. 3.53601666666667\n",
       "\n",
       "\n",
       "\n",
       "$y\n",
       ":   1. 21.8072333333333\n",
       "2. 21.0501666666667\n",
       "3. 16.6619333333333\n",
       "4. 16.0577333333333\n",
       "5. 19.7872166666667\n",
       "\n",
       "\n",
       "\n",
       "\n",
       "\n"
      ],
      "text/plain": [
       "$x\n",
       "[1]  0.8364833  2.4982667  3.7806633 -0.1783367  3.5360167\n",
       "\n",
       "$y\n",
       "[1] 21.80723 21.05017 16.66193 16.05773 19.78722\n"
      ]
     },
     "metadata": {},
     "output_type": "display_data"
    },
    {
     "data": {
      "text/html": [
       "<table>\n",
       "<thead><tr><th scope=col>x.4</th><th scope=col>y.4</th><th scope=col>z.4</th></tr></thead>\n",
       "<tbody>\n",
       "\t<tr><td>110.715</td><td>162.669</td><td>381.032</td></tr>\n",
       "\t<tr><td>225.845</td><td>201.118</td><td>340.258</td></tr>\n",
       "\t<tr><td>202.314</td><td>95.937 </td><td>322.614</td></tr>\n",
       "\t<tr><td>68.504 </td><td>172.905</td><td>259.218</td></tr>\n",
       "\t<tr><td>230.4  </td><td>144.319</td><td>352.865</td></tr>\n",
       "</tbody>\n",
       "</table>\n"
      ],
      "text/latex": [
       "\\begin{tabular}{lll}\n",
       " x.4 & y.4 & z.4\\\\\n",
       "\\hline\n",
       "\t 110.715 & 162.669 & 381.032\\\\\n",
       "\t 225.845 & 201.118 & 340.258\\\\\n",
       "\t 202.314 & 95.937  & 322.614\\\\\n",
       "\t 68.504  & 172.905 & 259.218\\\\\n",
       "\t 230.4   & 144.319 & 352.865\\\\\n",
       "\\end{tabular}\n"
      ],
      "text/markdown": [
       "\n",
       "x.4 | y.4 | z.4 | \n",
       "|---|---|---|---|---|\n",
       "| 110.715 | 162.669 | 381.032 | \n",
       "| 225.845 | 201.118 | 340.258 | \n",
       "| 202.314 | 95.937  | 322.614 | \n",
       "| 68.504  | 172.905 | 259.218 | \n",
       "| 230.4   | 144.319 | 352.865 | \n",
       "\n",
       "\n"
      ],
      "text/plain": [
       "     x.4     y.4     z.4    \n",
       "[1,] 110.715 162.669 381.032\n",
       "[2,] 225.845 201.118 340.258\n",
       "[3,] 202.314 95.937  322.614\n",
       "[4,] 68.504  172.905 259.218\n",
       "[5,] 230.4   144.319 352.865"
      ]
     },
     "metadata": {},
     "output_type": "display_data"
    },
    {
     "data": {
      "text/html": [
       "<table>\n",
       "<thead><tr><th></th><th scope=col>id</th><th scope=col>COLLECTION</th><th scope=col>GROUP</th><th scope=col>POP</th><th scope=col>RACE</th><th scope=col>SEX</th><th scope=col>x.1</th><th scope=col>y.1</th><th scope=col>z.1</th><th scope=col>x.2</th><th scope=col>...</th><th scope=col>z.32</th><th scope=col>x.33</th><th scope=col>y.33</th><th scope=col>z.33</th><th scope=col>x.34</th><th scope=col>y.34</th><th scope=col>z.34</th><th scope=col>x.35</th><th scope=col>y.35</th><th scope=col>z.35</th></tr></thead>\n",
       "<tbody>\n",
       "\t<tr><th scope=row>150</th><td>NC95-054       </td><td>FORENSIC       </td><td>               </td><td>               </td><td>Hispanic_mexico</td><td>male           </td><td>144.084        </td><td>50.676         </td><td>246.182        </td><td>248.162        </td><td>...            </td><td>349.052        </td><td>183.256        </td><td>56.491         </td><td>367.791        </td><td>236.102        </td><td>53.313         </td><td>359.556        </td><td>NA             </td><td>NA             </td><td>NA             </td></tr>\n",
       "</tbody>\n",
       "</table>\n"
      ],
      "text/latex": [
       "\\begin{tabular}{r|lllllllllllllllllllllllllllllllllllllllllllllllllllllllllllllllllllllllllllllllllllllllllllllllllllllllllllllll}\n",
       "  & id & COLLECTION & GROUP & POP & RACE & SEX & x.1 & y.1 & z.1 & x.2 & ... & z.32 & x.33 & y.33 & z.33 & x.34 & y.34 & z.34 & x.35 & y.35 & z.35\\\\\n",
       "\\hline\n",
       "\t150 & NC95-054          & FORENSIC          &                   &                   & Hispanic\\_mexico & male              & 144.084           & 50.676            & 246.182           & 248.162           & ...               & 349.052           & 183.256           & 56.491            & 367.791           & 236.102           & 53.313            & 359.556           & NA                & NA                & NA               \\\\\n",
       "\\end{tabular}\n"
      ],
      "text/markdown": [
       "\n",
       "| <!--/--> | id | COLLECTION | GROUP | POP | RACE | SEX | x.1 | y.1 | z.1 | x.2 | ... | z.32 | x.33 | y.33 | z.33 | x.34 | y.34 | z.34 | x.35 | y.35 | z.35 | \n",
       "|---|\n",
       "| 150 | NC95-054        | FORENSIC        |                 |                 | Hispanic_mexico | male            | 144.084         | 50.676          | 246.182         | 248.162         | ...             | 349.052         | 183.256         | 56.491          | 367.791         | 236.102         | 53.313          | 359.556         | NA              | NA              | NA              | \n",
       "\n",
       "\n"
      ],
      "text/plain": [
       "    id       COLLECTION GROUP POP RACE            SEX  x.1     y.1    z.1    \n",
       "150 NC95-054 FORENSIC             Hispanic_mexico male 144.084 50.676 246.182\n",
       "    x.2     ... z.32    x.33    y.33   z.33    x.34    y.34   z.34    x.35 y.35\n",
       "150 248.162 ... 349.052 183.256 56.491 367.791 236.102 53.313 359.556 NA   NA  \n",
       "    z.35\n",
       "150 NA  "
      ]
     },
     "metadata": {},
     "output_type": "display_data"
    },
    {
     "data": {
      "image/png": "[encoded data removed]",
      "text/plain": [
       "plot without title"
      ]
     },
     "metadata": {},
     "output_type": "display_data"
    }
   ],
   "source": [
    "library(\"scatterplot3d\")\n",
    "#one of the worst\n",
    "vals=c();\n",
    "for (m in c(3,12,13,15,18)){\n",
    "  to = c(3*m,3*m+1,3*m+2)+7;\n",
    "  vals = rbind(vals,unclass(x0[126,to]));\n",
    "}\n",
    "p3d=scatterplot3d(vals[,1], vals[,2], vals[,3],type=\"h\",pch=c(\"+\",\"l\",\"r\",\"b\",\"n\"),\n",
    "                  highlight.3d = F,  angle = 120,\n",
    "                  col.axis = \"blue\")\n",
    "p3d.coords <- p3d$xyz.convert(vals[,1], vals[,2], vals[,3])\n",
    "p3d.coords\n",
    "lines(p3d.coords$x[4:5],p3d.coords$y[4:5])\n",
    "lines(p3d.coords$x[2:3],p3d.coords$y[2:3])\n",
    "\n",
    "vals\n",
    "x0[128,]"
   ]
  },
  {
   "cell_type": "markdown",
   "metadata": {},
   "source": [
    "This is appears to be problematic, top to the left side really non-perpendicular. This appears to be a deformed cranium or a problematic measurement"
   ]
  },
  {
   "cell_type": "code",
   "execution_count": 137,
   "metadata": {
    "collapsed": true
   },
   "outputs": [],
   "source": [
    "# Below assumes that a1n and a2n are orthogonal, i.e., cranium is symmetric\n",
    "xtr = x0;\n",
    "\n",
    "v1 = as.double(matrix(c(1,0,0)));\n",
    "v2 = as.double(matrix(c(0,1,0)));\n",
    "\n",
    "for (j in 1:dim(x0)[1]){\n",
    "#for (j in ss){\n",
    "  v = as.double(matrix(a1n[j,],nrow=3));\n",
    "  a=v1+v\n",
    "  r1 = 2/(t(a)%*%a)[1,1]*(a%*%t(a)) - matrix(c(1,0,0,0,1,0,0,0,1),ncol=3);\n",
    "  #print(r1%*%t(r1))  \n",
    "  #go over all measurements\n",
    "  for (i in vs1){\n",
    "    to = c(3*i,3*i+1,3*i+2)+7;\n",
    "    var=(x0[j,to]-x0[j,lambda]); #translate    \n",
    "    #var=(x0[j,to]); #translate    \n",
    "    varR = as.double(matrix(var,nrow=3))%*%r1; #rotate\n",
    "    xtr[j,to] = varR\n",
    "  }\n",
    "}\n",
    "xtr2 = xtr;\n",
    "a22=xtr[,fmtr]-xtr[,fmtl]\n",
    "a2n = a22/sqrt(apply(a22*a22,1,sum)) \n",
    "for (j in 1:dim(x0)[1]){\n",
    "#for (j in ss){\n",
    "  v = as.double(matrix(a2n[j,],nrow=3));\n",
    "  #fix to do rotation around v1 axis  \n",
    "  v = v*c(0,1,1)\n",
    "  v = v / sqrt(sum(v*v))  \n",
    "  a=v2+v\n",
    "  r2 = 2/(t(a)%*%a)[1,1]*(a%*%t(a)) - matrix(c(1,0,0,0,1,0,0,0,1),ncol=3);\n",
    "  for (i in vs1){\n",
    "    to = c(3*i,3*i+1,3*i+2)+7;  \n",
    "    varR = as.double(matrix(xtr[j,to],nrow=3))%*%r2; #rotate\n",
    "    xtr2[j,to] = varR\n",
    "  }\n",
    "}\n",
    "    "
   ]
  },
  {
   "cell_type": "code",
   "execution_count": 138,
   "metadata": {},
   "outputs": [
    {
     "data": {
      "text/html": [
       "<table>\n",
       "<thead><tr><th scope=col>x.4</th><th scope=col>y.4</th><th scope=col>z.4</th></tr></thead>\n",
       "<tbody>\n",
       "\t<tr><td>-87.56586</td><td>1.659549 </td><td>71.30725 </td></tr>\n",
       "\t<tr><td>-159.6873</td><td>-54.35151</td><td>-9.207805</td></tr>\n",
       "\t<tr><td>-159.5812</td><td>54.60024 </td><td>-9.207805</td></tr>\n",
       "\t<tr><td>0</td><td>0</td><td>0</td></tr>\n",
       "\t<tr><td>-181.2727    </td><td>-6.842012e-16</td><td>7.91459e-15  </td></tr>\n",
       "</tbody>\n",
       "</table>\n"
      ],
      "text/latex": [
       "\\begin{tabular}{lll}\n",
       " x.4 & y.4 & z.4\\\\\n",
       "\\hline\n",
       "\t -87.56586 & 1.659549  & 71.30725 \\\\\n",
       "\t -159.6873 & -54.35151 & -9.207805\\\\\n",
       "\t -159.5812 & 54.60024  & -9.207805\\\\\n",
       "\t 0 & 0 & 0\\\\\n",
       "\t -181.2727     & -6.842012e-16 & 7.91459e-15  \\\\\n",
       "\\end{tabular}\n"
      ],
      "text/markdown": [
       "\n",
       "x.4 | y.4 | z.4 | \n",
       "|---|---|---|---|---|\n",
       "| -87.56586 | 1.659549  | 71.30725  | \n",
       "| -159.6873 | -54.35151 | -9.207805 | \n",
       "| -159.5812 | 54.60024  | -9.207805 | \n",
       "| 0 | 0 | 0 | \n",
       "| -181.2727     | -6.842012e-16 | 7.91459e-15   | \n",
       "\n",
       "\n"
      ],
      "text/plain": [
       "     x.4       y.4           z.4        \n",
       "[1,] -87.56586 1.659549      71.30725   \n",
       "[2,] -159.6873 -54.35151     -9.207805  \n",
       "[3,] -159.5812 54.60024      -9.207805  \n",
       "[4,] 0         0             0          \n",
       "[5,] -181.2727 -6.842012e-16 7.91459e-15"
      ]
     },
     "metadata": {},
     "output_type": "display_data"
    },
    {
     "data": {
      "text/html": [
       "<table>\n",
       "<thead><tr><th></th><th scope=col>x.4</th><th scope=col>y.4</th><th scope=col>z.4</th></tr></thead>\n",
       "<tbody>\n",
       "\t<tr><th scope=row>vv</th><td>-93.2599 </td><td>-1.156075</td><td>73.46871 </td></tr>\n",
       "\t<tr><th scope=row>vv</th><td>-161.2803</td><td>-53.02448</td><td>-4.379271</td></tr>\n",
       "\t<tr><th scope=row>vv</th><td>-161.234 </td><td>50.3975  </td><td>-4.379271</td></tr>\n",
       "\t<tr><th scope=row>vv</th><td>0</td><td>0</td><td>0</td></tr>\n",
       "\t<tr><th scope=row>vv</th><td>-180.2689    </td><td>-1.385267e-14</td><td>9.013697e-15 </td></tr>\n",
       "</tbody>\n",
       "</table>\n"
      ],
      "text/latex": [
       "\\begin{tabular}{r|lll}\n",
       "  & x.4 & y.4 & z.4\\\\\n",
       "\\hline\n",
       "\tvv & -93.2599  & -1.156075 & 73.46871 \\\\\n",
       "\tvv & -161.2803 & -53.02448 & -4.379271\\\\\n",
       "\tvv & -161.234  & 50.3975   & -4.379271\\\\\n",
       "\tvv & 0 & 0 & 0\\\\\n",
       "\tvv & -180.2689     & -1.385267e-14 & 9.013697e-15 \\\\\n",
       "\\end{tabular}\n"
      ],
      "text/markdown": [
       "\n",
       "| <!--/--> | x.4 | y.4 | z.4 | \n",
       "|---|---|---|---|---|\n",
       "| vv | -93.2599  | -1.156075 | 73.46871  | \n",
       "| vv | -161.2803 | -53.02448 | -4.379271 | \n",
       "| vv | -161.234  | 50.3975   | -4.379271 | \n",
       "| vv | 0 | 0 | 0 | \n",
       "| vv | -180.2689     | -1.385267e-14 | 9.013697e-15  | \n",
       "\n",
       "\n"
      ],
      "text/plain": [
       "   x.4       y.4           z.4         \n",
       "vv -93.2599  -1.156075     73.46871    \n",
       "vv -161.2803 -53.02448     -4.379271   \n",
       "vv -161.234  50.3975       -4.379271   \n",
       "vv 0         0             0           \n",
       "vv -180.2689 -1.385267e-14 9.013697e-15"
      ]
     },
     "metadata": {},
     "output_type": "display_data"
    },
    {
     "data": {
      "image/png": "[encoded data removed]",
      "text/plain": [
       "plot without title"
      ]
     },
     "metadata": {},
     "output_type": "display_data"
    }
   ],
   "source": [
    "vals=c();\n",
    "vals1=c();\n",
    "for (m in c(3,12,13,15,18)){\n",
    "  to = c(3*m,3*m+1,3*m+2)+7;\n",
    "  vals = rbind(vals,unclass(xtr2[ss[1],to]));\n",
    "}\n",
    "for (m in c(3,12,13,15,18)){\n",
    "  to = c(3*m,3*m+1,3*m+2)+7;\n",
    "  vv = unclass(xtr2[ss[2],to]*c(1,1,1));\n",
    "  vals1 = rbind(vals1,vv);\n",
    "}\n",
    "\n",
    "p3d=scatterplot3d(vals[,1], vals[,2], vals[,3],pch=c(\"+\",\"l\",\"r\",\"b\",\"n\"),\n",
    "                  highlight.3d = F,  angle = 220,\n",
    "                  col.axis = \"blue\")\n",
    "\n",
    "\n",
    "p3d$points(vals1[,1], vals1[,2], vals1[,3],pch=c(\"+\",\"l\",\"r\",\"b\",\"n\"),col=\"red\")\n",
    "vals\n",
    "vals1"
   ]
  },
  {
   "cell_type": "code",
   "execution_count": 172,
   "metadata": {},
   "outputs": [],
   "source": [
    "#looks like we managed to align crania\n",
    "#Lets scale it\n",
    "xscale = abs(xtr2[,nas][,1]);\n",
    "yscale = sqrt(apply((xtr2[,fmtr] - xtr2[,fmtl])^2,1,sum));\n",
    "zscale = sqrt(apply((xtr2[,brg] - xtr2[,nas]/c(2,1,1))^2,1,sum));"
   ]
  },
  {
   "cell_type": "code",
   "execution_count": 173,
   "metadata": {},
   "outputs": [],
   "source": [
    "xsc=xtr2;\n",
    "for (j in 1:dim(x0)[1]){\n",
    "  for (i in vs1){\n",
    "    to = c(3*i,3*i+1,3*i+2)+7;  \n",
    "    var = as.double(matrix(xtr2[j,to],nrow=3))/c(xscale[j],yscale[j],zscale[j]); #scale\n",
    "    xsc[j,to] = var\n",
    "  }\n",
    "}"
   ]
  },
  {
   "cell_type": "code",
   "execution_count": 201,
   "metadata": {},
   "outputs": [
    {
     "data": {
      "text/html": [
       "<ol class=list-inline>\n",
       "\t<li>0.279106138267542</li>\n",
       "\t<li>0.330650382767993</li>\n",
       "\t<li>0.372472645236038</li>\n",
       "\t<li>0.406581971843259</li>\n",
       "\t<li>0.437846718583357</li>\n",
       "\t<li>0.467082775723</li>\n",
       "\t<li>0.495292092444542</li>\n",
       "\t<li>0.521345286336602</li>\n",
       "\t<li>0.542689122508394</li>\n",
       "\t<li>0.563710123232815</li>\n",
       "\t<li>0.584256956502473</li>\n",
       "\t<li>0.603775806192684</li>\n",
       "\t<li>0.62179689413759</li>\n",
       "\t<li>0.638810804990086</li>\n",
       "\t<li>0.654751204292327</li>\n",
       "\t<li>0.669902093323129</li>\n",
       "\t<li>0.683858689094814</li>\n",
       "\t<li>0.697655236300828</li>\n",
       "\t<li>0.710553211950988</li>\n",
       "\t<li>0.722918206474522</li>\n",
       "\t<li>0.735182727329815</li>\n",
       "\t<li>0.746855543415868</li>\n",
       "\t<li>0.757837008255697</li>\n",
       "\t<li>0.768713348870394</li>\n",
       "\t<li>0.779234690135513</li>\n",
       "\t<li>0.789449917896883</li>\n",
       "\t<li>0.799438755750952</li>\n",
       "\t<li>0.809087244648733</li>\n",
       "</ol>\n"
      ],
      "text/latex": [
       "\\begin{enumerate*}\n",
       "\\item 0.279106138267542\n",
       "\\item 0.330650382767993\n",
       "\\item 0.372472645236038\n",
       "\\item 0.406581971843259\n",
       "\\item 0.437846718583357\n",
       "\\item 0.467082775723\n",
       "\\item 0.495292092444542\n",
       "\\item 0.521345286336602\n",
       "\\item 0.542689122508394\n",
       "\\item 0.563710123232815\n",
       "\\item 0.584256956502473\n",
       "\\item 0.603775806192684\n",
       "\\item 0.62179689413759\n",
       "\\item 0.638810804990086\n",
       "\\item 0.654751204292327\n",
       "\\item 0.669902093323129\n",
       "\\item 0.683858689094814\n",
       "\\item 0.697655236300828\n",
       "\\item 0.710553211950988\n",
       "\\item 0.722918206474522\n",
       "\\item 0.735182727329815\n",
       "\\item 0.746855543415868\n",
       "\\item 0.757837008255697\n",
       "\\item 0.768713348870394\n",
       "\\item 0.779234690135513\n",
       "\\item 0.789449917896883\n",
       "\\item 0.799438755750952\n",
       "\\item 0.809087244648733\n",
       "\\end{enumerate*}\n"
      ],
      "text/markdown": [
       "1. 0.279106138267542\n",
       "2. 0.330650382767993\n",
       "3. 0.372472645236038\n",
       "4. 0.406581971843259\n",
       "5. 0.437846718583357\n",
       "6. 0.467082775723\n",
       "7. 0.495292092444542\n",
       "8. 0.521345286336602\n",
       "9. 0.542689122508394\n",
       "10. 0.563710123232815\n",
       "11. 0.584256956502473\n",
       "12. 0.603775806192684\n",
       "13. 0.62179689413759\n",
       "14. 0.638810804990086\n",
       "15. 0.654751204292327\n",
       "16. 0.669902093323129\n",
       "17. 0.683858689094814\n",
       "18. 0.697655236300828\n",
       "19. 0.710553211950988\n",
       "20. 0.722918206474522\n",
       "21. 0.735182727329815\n",
       "22. 0.746855543415868\n",
       "23. 0.757837008255697\n",
       "24. 0.768713348870394\n",
       "25. 0.779234690135513\n",
       "26. 0.789449917896883\n",
       "27. 0.799438755750952\n",
       "28. 0.809087244648733\n",
       "\n",
       "\n"
      ],
      "text/plain": [
       " [1] 0.2791061 0.3306504 0.3724726 0.4065820 0.4378467 0.4670828 0.4952921\n",
       " [8] 0.5213453 0.5426891 0.5637101 0.5842570 0.6037758 0.6217969 0.6388108\n",
       "[15] 0.6547512 0.6699021 0.6838587 0.6976552 0.7105532 0.7229182 0.7351827\n",
       "[22] 0.7468555 0.7578370 0.7687133 0.7792347 0.7894499 0.7994388 0.8090872"
      ]
     },
     "metadata": {},
     "output_type": "display_data"
    }
   ],
   "source": [
    "vars = c();\n",
    "for (i in vs1) vars = c(vars, c(3*i,3*i+1,3*i+2)+7) \n",
    "ev = prcomp(xsc[,vars])$sdev;\n",
    "(cumsum(ev)/sum(ev))[1:28];"
   ]
  },
  {
   "cell_type": "code",
   "execution_count": 208,
   "metadata": {},
   "outputs": [
    {
     "name": "stdout",
     "output_type": "stream",
     "text": [
      "[1] \"z.3\"  \"z.4\"  \"z.17\" \"z.18\" \"z.27\" \"z.31\" \"z.32\"\n",
      "[1] \"z.1\"  \"z.2\"  \"z.4\"  \"z.27\"\n",
      "[1] \"z.4\"\n",
      "[1] \"y.1\"  \"y.2\"  \"y.17\" \"y.18\"\n",
      "[1] \"y.2\"  \"z.3\"  \"y.18\"\n",
      "[1] \"y.1\"  \"z.1\"  \"z.3\"  \"y.17\" \"y.20\"\n",
      "[1] \"z.2\"\n",
      "[1] \"z.4\"  \"z.12\" \"z.20\" \"z.27\"\n",
      "[1] \"y.1\"  \"z.3\"  \"z.17\" \"z.18\"\n",
      "[1] \"y.31\" \"y.33\" \"y.34\"\n",
      "[1] \"y.2\"  \"z.4\"  \"y.34\"\n",
      "[1] \"z.1\"  \"z.2\"  \"y.4\"  \"z.17\" \"z.32\"\n",
      "[1] \"y.1\"  \"z.3\"  \"y.18\"\n",
      "[1] \"z.27\" \"z.31\" \"z.32\"\n",
      "[1] \"x.1\"  \"y.4\"  \"y.32\"\n",
      "[1] \"y.20\" \"z.30\"\n",
      "[1] \"z.28\" \"z.29\"\n",
      "[1] \"x.4\"  \"y.20\"\n",
      "[1] \"x.4\"  \"y.20\" \"y.33\"\n",
      "[1] \"y.4\"  \"z.30\" \"y.31\"\n",
      "[1] \"z.1\"  \"z.2\"  \"y.4\"  \"z.30\"\n",
      "[1] \"x.18\" \"x.20\" \"x.27\" \"x.30\" \"y.32\"\n",
      "[1] \"z.1\"  \"z.2\"  \"z.9\"  \"z.15\" \"x.30\"\n",
      "[1] \"z.10\" \"y.17\" \"y.31\" \"y.32\"\n",
      "[1] \"x.2\"  \"x.17\" \"y.33\"\n",
      "[1] \"z.15\" \"x.30\" \"y.30\"\n",
      "[1] \"x.1\"  \"y.4\"  \"y.17\" \"y.34\"\n",
      "[1] \"y.2\"  \"z.5\"  \"z.17\" \"z.30\"\n"
     ]
    }
   ],
   "source": [
    "#28 top eigenvalues explain 80% of the variance\n",
    "useful = c()\n",
    "for (i in 1:28){\n",
    " cmp1=abs(prcomp(xsc[,vars])$rotation[,i])>.25\n",
    " print(names(cmp1)[cmp1])\n",
    " for (n in names(cmp1)[cmp1]) useful = c(useful, n)\n",
    "}\n",
    "useful=names(table(useful))    "
   ]
  },
  {
   "cell_type": "code",
   "execution_count": 213,
   "metadata": {},
   "outputs": [],
   "source": [
    "#now that we rescaled, can we detect females?\n",
    "xsc$male = xsc[,6]=='male'\n",
    "fmla=paste('male~',paste(useful,collapse=\"+\"), sep=\"\");\n",
    "mod=glm(as.formula(fmla),data=xsc,family=binomial)"
   ]
  },
  {
   "cell_type": "code",
   "execution_count": 215,
   "metadata": {},
   "outputs": [
    {
     "data": {
      "text/plain": [
       "\n",
       "Call:\n",
       "glm(formula = as.formula(fmla), family = binomial, data = xsc)\n",
       "\n",
       "Deviance Residuals: \n",
       "    Min       1Q   Median       3Q      Max  \n",
       "-2.2184  -0.8951  -0.4659   0.9845   2.7379  \n",
       "\n",
       "Coefficients:\n",
       "            Estimate Std. Error z value Pr(>|z|)    \n",
       "(Intercept)  -7.2853     5.2806  -1.380 0.167701    \n",
       "x.1           2.3145     4.7909   0.483 0.629031    \n",
       "x.17         -3.9839     5.7445  -0.694 0.487983    \n",
       "x.18         -7.3629     5.4624  -1.348 0.177684    \n",
       "x.2          10.8479     4.6046   2.356 0.018478 *  \n",
       "x.20         53.3917     9.8204   5.437 5.42e-08 ***\n",
       "x.27        -39.6165     8.9012  -4.451 8.56e-06 ***\n",
       "x.30         -4.1651     4.0391  -1.031 0.302442    \n",
       "x.4          -0.9406     3.1972  -0.294 0.768605    \n",
       "y.1          10.6905     3.8413   2.783 0.005385 ** \n",
       "y.17         -5.0859     4.0714  -1.249 0.211601    \n",
       "y.18          1.2701     3.9171   0.324 0.745746    \n",
       "y.2           5.0639     3.7431   1.353 0.176104    \n",
       "y.20          0.0579     2.7475   0.021 0.983188    \n",
       "y.30        -15.7461     4.6244  -3.405 0.000662 ***\n",
       "y.31         -1.7277     4.3347  -0.399 0.690213    \n",
       "y.32          3.6639     4.2100   0.870 0.384149    \n",
       "y.33         -2.8971     3.4712  -0.835 0.403940    \n",
       "y.34          4.9545     3.6780   1.347 0.177957    \n",
       "y.4          -6.9243     3.2704  -2.117 0.034235 *  \n",
       "z.1           6.0945     2.6700   2.283 0.022453 *  \n",
       "z.10         -4.2456     5.3154  -0.799 0.424437    \n",
       "z.12        -16.3131     4.4214  -3.690 0.000225 ***\n",
       "z.15        -10.5830     4.0468  -2.615 0.008919 ** \n",
       "z.17         -7.9619     3.6222  -2.198 0.027945 *  \n",
       "z.18          2.2815     3.3575   0.680 0.496797    \n",
       "z.2          -5.9637     2.5101  -2.376 0.017504 *  \n",
       "z.20         -4.7426     4.5875  -1.034 0.301227    \n",
       "z.27          0.5010     3.9405   0.127 0.898833    \n",
       "z.28        -16.0776     8.0084  -2.008 0.044685 *  \n",
       "z.29         24.8239     7.6607   3.240 0.001194 ** \n",
       "z.3           1.2637     1.9902   0.635 0.525457    \n",
       "z.30         12.1341     3.3709   3.600 0.000319 ***\n",
       "z.31         -8.7701     4.7833  -1.833 0.066730 .  \n",
       "z.32          2.0711     4.6351   0.447 0.655005    \n",
       "z.4          -1.7928     1.3898  -1.290 0.197081    \n",
       "z.5          14.7350     4.9734   2.963 0.003049 ** \n",
       "z.9           8.0248     5.4704   1.467 0.142390    \n",
       "---\n",
       "Signif. codes:  0 '***' 0.001 '**' 0.01 '*' 0.05 '.' 0.1 ' ' 1\n",
       "\n",
       "(Dispersion parameter for binomial family taken to be 1)\n",
       "\n",
       "    Null deviance: 1235.8  on 907  degrees of freedom\n",
       "Residual deviance: 1013.2  on 870  degrees of freedom\n",
       "AIC: 1089.2\n",
       "\n",
       "Number of Fisher Scoring iterations: 4\n"
      ]
     },
     "metadata": {},
     "output_type": "display_data"
    }
   ],
   "source": [
    "# works, but not great\n",
    "summary(mod)"
   ]
  },
  {
   "cell_type": "code",
   "execution_count": 217,
   "metadata": {},
   "outputs": [
    {
     "data": {
      "text/plain": [
       "\n",
       "                               -999          Albanian                C? \n",
       "              621                 7                 2                 1 \n",
       "               H?          Hispanic     Hispanic_cuba         Macedonia \n",
       "                1                 2                18                16 \n",
       "Southern_Yugoslav      Spain-Basque            Turkey         Umatilla? \n",
       "                6                 0                17                 1 \n",
       "  Yugoslav_Bosnia        Yugoslavia              arch             black \n",
       "                0                 7                 0                48 \n",
       "          unknown             white         whitehite \n",
       "                3               154                 4 "
      ]
     },
     "metadata": {},
     "output_type": "display_data"
    }
   ],
   "source": [
    "table(xsc[,3])"
   ]
  },
  {
   "cell_type": "code",
   "execution_count": 220,
   "metadata": {},
   "outputs": [
    {
     "data": {
      "text/plain": [
       "\n",
       "Call:\n",
       "glm(formula = as.formula(fmla), family = binomial, data = xsc)\n",
       "\n",
       "Deviance Residuals: \n",
       "    Min       1Q   Median       3Q      Max  \n",
       "-3.4468  -0.3813  -0.1582  -0.0422   3.4540  \n",
       "\n",
       "Coefficients:\n",
       "            Estimate Std. Error z value Pr(>|z|)    \n",
       "(Intercept)  19.3727     8.2319   2.353 0.018604 *  \n",
       "x.1          -2.3611     7.0474  -0.335 0.737597    \n",
       "x.17        -41.3381     9.1810  -4.503 6.71e-06 ***\n",
       "x.18          9.6990     8.4741   1.145 0.252400    \n",
       "x.2          11.4227     7.0615   1.618 0.105751    \n",
       "x.20         29.3342    14.6621   2.001 0.045427 *  \n",
       "x.27         -9.5383    13.3113  -0.717 0.473648    \n",
       "x.30         29.3923     6.7138   4.378 1.20e-05 ***\n",
       "x.4           0.2948     5.1678   0.057 0.954507    \n",
       "y.1          -5.3333     5.7710  -0.924 0.355408    \n",
       "y.17         -9.3570     6.4412  -1.453 0.146310    \n",
       "y.18          4.1357     6.1126   0.677 0.498673    \n",
       "y.2           7.6844     5.8620   1.311 0.189894    \n",
       "y.20          0.8693     4.9580   0.175 0.860812    \n",
       "y.30         10.8458     7.4542   1.455 0.145674    \n",
       "y.31         11.0357     7.0254   1.571 0.116223    \n",
       "y.32         10.2123     6.8515   1.491 0.136086    \n",
       "y.33         -7.5947     5.9163  -1.284 0.199245    \n",
       "y.34         -6.6326     6.6632  -0.995 0.319535    \n",
       "y.4           6.2640     5.3179   1.178 0.238828    \n",
       "z.1          -4.8757     4.6144  -1.057 0.290677    \n",
       "z.10         16.1739     8.8326   1.831 0.067076 .  \n",
       "z.12        -27.0174     7.3701  -3.666 0.000247 ***\n",
       "z.15        -19.8726     6.8219  -2.913 0.003579 ** \n",
       "z.17         -3.8925     5.9202  -0.658 0.510859    \n",
       "z.18         11.6231     5.6232   2.067 0.038734 *  \n",
       "z.2          -8.0490     4.2882  -1.877 0.060516 .  \n",
       "z.20         41.7793     7.4920   5.577 2.45e-08 ***\n",
       "z.27        -46.4825     6.7904  -6.845 7.63e-12 ***\n",
       "z.28        -66.7389    15.3835  -4.338 1.44e-05 ***\n",
       "z.29         90.4552    15.7511   5.743 9.31e-09 ***\n",
       "z.3          -7.9330     3.4897  -2.273 0.023009 *  \n",
       "z.30          3.1680     5.5752   0.568 0.569880    \n",
       "z.31         20.9945     7.0333   2.985 0.002836 ** \n",
       "z.32        -11.7023     5.7194  -2.046 0.040751 *  \n",
       "z.4           2.3019     2.3358   0.985 0.324382    \n",
       "z.5           2.5519     8.1321   0.314 0.753666    \n",
       "z.9           1.8353     9.1464   0.201 0.840967    \n",
       "---\n",
       "Signif. codes:  0 '***' 0.001 '**' 0.01 '*' 0.05 '.' 0.1 ' ' 1\n",
       "\n",
       "(Dispersion parameter for binomial family taken to be 1)\n",
       "\n",
       "    Null deviance: 826.75  on 907  degrees of freedom\n",
       "Residual deviance: 454.90  on 870  degrees of freedom\n",
       "AIC: 530.9\n",
       "\n",
       "Number of Fisher Scoring iterations: 7\n"
      ]
     },
     "metadata": {},
     "output_type": "display_data"
    }
   ],
   "source": [
    "#now that we rescaled, can we detect \"white\"?\n",
    "xsc$white = xsc[,3]=='white'\n",
    "fmla=paste('white~',paste(useful,collapse=\"+\"), sep=\"\");\n",
    "mod=glm(as.formula(fmla),data=xsc,family=binomial)\n",
    "# works, but not great\n",
    "summary(mod)"
   ]
  },
  {
   "cell_type": "code",
   "execution_count": 221,
   "metadata": {
    "collapsed": true
   },
   "outputs": [],
   "source": [
    "# better than male/female?"
   ]
  },
  {
   "cell_type": "code",
   "execution_count": null,
   "metadata": {
    "collapsed": true
   },
   "outputs": [],
   "source": []
  }
 ],
 "metadata": {
  "kernelspec": {
   "display_name": "R",
   "language": "R",
   "name": "ir"
  },
  "language_info": {
   "codemirror_mode": "r",
   "file_extension": ".r",
   "mimetype": "text/x-r-source",
   "name": "R",
   "pygments_lexer": "r",
   "version": "3.4.1"
  }
 },
 "nbformat": 4,
 "nbformat_minor": 2
}
